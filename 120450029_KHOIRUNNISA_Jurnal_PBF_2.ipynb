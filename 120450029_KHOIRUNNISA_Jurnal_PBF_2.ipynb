{
  "cells": [
    {
      "cell_type": "markdown",
      "id": "dcdbaa14",
      "metadata": {
        "id": "dcdbaa14"
      },
      "source": [
        "# Jurnal PBF\n",
        "KHOIRUNNISA - 120450029"
      ]
    },
    {
      "cell_type": "markdown",
      "id": "45b5bb2b",
      "metadata": {
        "id": "45b5bb2b"
      },
      "source": [
        "# No 1\n"
      ]
    },
    {
      "cell_type": "markdown",
      "id": "908a6843",
      "metadata": {
        "id": "908a6843"
      },
      "source": [
        "cara 1"
      ]
    },
    {
      "cell_type": "code",
      "execution_count": null,
      "id": "7ee62788",
      "metadata": {
        "id": "7ee62788",
        "outputId": "cfea7b8d-d2d1-4bc8-d6a8-6fed7e590554"
      },
      "outputs": [
        {
          "data": {
            "text/plain": [
              "[7, 7, 7, 7, 7, 7, 7]"
            ]
          },
          "execution_count": 2,
          "metadata": {},
          "output_type": "execute_result"
        }
      ],
      "source": [
        "def ulangi_029 (x): #mendefinisikan fungsi\n",
        "    return list(map(lambda n:x, range (x))) #model matematika yang di definisi\n",
        "\n",
        "ulangi_029(7)\n"
      ]
    },
    {
      "cell_type": "markdown",
      "id": "8b97cd97",
      "metadata": {
        "id": "8b97cd97"
      },
      "source": [
        "cara 2"
      ]
    },
    {
      "cell_type": "code",
      "execution_count": null,
      "id": "647c6272",
      "metadata": {
        "id": "647c6272",
        "outputId": "ab4249cb-0381-4ceb-9e15-32dec1199075"
      },
      "outputs": [
        {
          "name": "stdout",
          "output_type": "stream",
          "text": [
            "[2, 2, 2, 2]\n"
          ]
        }
      ],
      "source": [
        "a = 2        #bilangan skalar\n",
        "b = 4        #banyak perulangan bilangan skalar\n",
        "\n",
        "print (list (map(lambda x:a, range(b))))  #deklarasi fungsi map yang menggunakan fungsi lambda, dan range"
      ]
    },
    {
      "cell_type": "markdown",
      "id": "bdf4318d",
      "metadata": {
        "id": "bdf4318d"
      },
      "source": [
        "# no 2"
      ]
    },
    {
      "cell_type": "code",
      "execution_count": null,
      "id": "5567ede7",
      "metadata": {
        "id": "5567ede7",
        "outputId": "49b65611-9865-4c5f-8104-29637da9bfda"
      },
      "outputs": [
        {
          "name": "stdout",
          "output_type": "stream",
          "text": [
            "[0.5, -0.25, 0.125, -0.0625, 0.03125, -0.015625, 0.0078125]\n"
          ]
        }
      ],
      "source": [
        "n = 7 #banyak deret\n",
        "deret = list (map(lambda x: ((-1)**(x+1)) * (1/(2**x)), range(1,n+1)))\n",
        "#\n",
        "print (deret)"
      ]
    },
    {
      "cell_type": "markdown",
      "id": "a6717a09",
      "metadata": {
        "id": "a6717a09"
      },
      "source": [
        "cara 2"
      ]
    },
    {
      "cell_type": "code",
      "execution_count": null,
      "id": "b0aa2f72",
      "metadata": {
        "id": "b0aa2f72",
        "outputId": "5de24347-9fe1-482a-b182-53fe933964e8"
      },
      "outputs": [
        {
          "name": "stdout",
          "output_type": "stream",
          "text": [
            "masukkan nilai: 6\n",
            "[0.5, -0.25, 0.125, -0.0625, 0.03125, -0.015625]\n"
          ]
        }
      ],
      "source": [
        "n = int(input('masukkan nilai: ')) #declare n\n",
        "a = range(1,n+1) #declare deret a menggunakan range\n",
        "\n",
        "def ulangi_029(x):\n",
        "    return  ((-1)**(x+1)) * (1/(2**x)) # mendefine model matematika funsi ulangi_032()\n",
        "\n",
        "print(list(map(ulangi_029, a))) # deklarasi deret dengan fungsi map()"
      ]
    },
    {
      "cell_type": "markdown",
      "id": "efac3708",
      "metadata": {
        "id": "efac3708"
      },
      "source": [
        "# no 3"
      ]
    },
    {
      "cell_type": "code",
      "execution_count": null,
      "id": "4d74192c",
      "metadata": {
        "id": "4d74192c"
      },
      "outputs": [],
      "source": [
        "from functools import reduce\n"
      ]
    },
    {
      "cell_type": "code",
      "execution_count": null,
      "id": "6db4d1c2",
      "metadata": {
        "id": "6db4d1c2",
        "outputId": "9a64ecff-2b78-4e99-93a4-b5c5a4eda93e"
      },
      "outputs": [
        {
          "name": "stdout",
          "output_type": "stream",
          "text": [
            "0.3359375\n"
          ]
        }
      ],
      "source": [
        "print (reduce(lambda x,y: x+y,deret))\n",
        "# declare jumlah deret menggunakan lambda dan built in ke dalam fungsi reduce"
      ]
    },
    {
      "cell_type": "markdown",
      "id": "d8443ee7",
      "metadata": {
        "id": "d8443ee7"
      },
      "source": [
        "\n",
        "# no 4\n"
      ]
    },
    {
      "cell_type": "code",
      "execution_count": null,
      "id": "cbbf1f92",
      "metadata": {
        "id": "cbbf1f92"
      },
      "outputs": [],
      "source": [
        "data = open('DNA.txt','r')\n",
        "data = data.read()\n",
        "#fungsi untuk membaca jenis file txt/text"
      ]
    },
    {
      "cell_type": "code",
      "execution_count": null,
      "id": "e31212a6",
      "metadata": {
        "id": "e31212a6",
        "outputId": "c1735c45-413a-400b-905f-20079d845e75"
      },
      "outputs": [
        {
          "data": {
            "text/plain": [
              "'TGTCTTCCGGCTGAGCGGTTCCTAACCAGCAGACTGATACTGGTCGAATATCGACGGGCAAGAGCCCTGGGATTGATGCGTTTCACCATGCGCGTCTCAGTGCAGGCAGGAATGCAGAGCTTACTTCAAACTAGTTACTGGCAAAAAATACAAATTTTTTCGATCGACCTTGAGTTTATTCATTACCGCACAGTCTTTTACCGCACCTGTTACCGCACATCCGTAAGTTTACCGCACGTTACCGCACTACCTCTCTATATTACCGCACTTCGTTTACCGCACGCTGAGGAACGGTTACCGCACTTACCGCACCACAAGGTGCGTGCTCTGTTATTACCGCACCACCATTACCGCACGCACTTTTATTACCGCACCAGGGCACAGCCACGTAGGGTAGCGTCGTTCTCACTGTATTGCGGCGACGGTCGTAATTTACCGCATTACCGCACCACTCGTTAGCTTACCGCACCTAGGGTTGTTACCGCACGACTTACCGCACAGCCGTTACCGCACGTGTTACTTGACGCTCTAACTCCCACTCATATCAGTCTTATTACCGCACACTGGGCTTACCGCACCCGCACCTTAAGTAGGCAGTTACCGCACGTATTACCGCACGTAATTACCGCACACCTGTAAAGGCAGGGTAAAGTACAGACTTACCGCTTACCGCACGGTTGCACCACGACAAATCTAACGTTAGGTACGTTACCGCACGGGAAATTACCGCACTCCAGGGTTTTACCGCACAGATATCCATTCGGGAATGTGACCCCTGGAGTGGAGTTGTGCGAAAGATACGGAGTTTTCAAGGGCACACCCAGCTATGTTATTAAGCGTTACAGTGGCCGCTGCATCATGTCAATGTTCAGGTCATTCTCTATCTTGCTATGTACGAACCCTCGTTAAGAGGGAGTAAGCGATCTTTTGACAAAATCGTATGCATGTAGGCGAGGCAATGCCGATTACATTGAACGGCGGGACTTTTCGTATGAGACACCGCGGTTGAAATATTTTTTTATGCAAGAGCGGGATTGGGCGGAAGGAGACTTAACGCAGTGCCTAGCACTGTTAACTGCGGCATGGCCGGATGGACTACCTATTTTGCAGCTCCAGCGTTTGAGTTCCACGTACTGACGGAACAGTCCCGAGATAGGCCATGTGGTCGATCCCAGTGAGAAATGAGACTCGAGATGCCGGTACCGGTAGCATCACCACATTGCTCCAGTATGATATCAGTCTTCACTGTCAGCAATTAATGCAGCGATCTTGAAGAGAGTTATTCATCTCTTATCACCTGACAATAAATCAATTTACCAGTCAAATTCTCTTTAACATCGTGCCGAACTGCGATGCGTCGTAGTCTAGATTAGGATATATTTTCTTAGCTGGCTTCGATGATTGGCTGTACGCTAAGGTGATTGAATTTCGATCTGCATTGGAGCTGTACCCCACCTTGCATGGCATTGACAGCCTAAAGCGTGAAGAATGCAATACAGCTGACAGAAAAATAACGGGCTCGATAACGTTCCAAGATTCTGACTTAACGACGGCTAGCGAGCGAGTCATAAATCCCGTCCACACCGGGCAATCGGGTCGGAGTGGAAAGGGCGGGATTTTATTATTACGTGACGCAGATCTCCGTGTCACTATACTCACATCCTCTCTGTAGATAAAGTTATACCAACCTCCATATTCTTCTTACGCTAAGTTCGGGCTATCCGAGTCTCGGCCCATAGCAGGAGCACTTTAAGGGAAGTCCTATTGCCGAATACAGTACGTTCCCCGCAATATGTTATACTCACCCAAATATGTTAATATGTTATATGTTAAAACGCAGTGTGGGAATATGTTAATATGTTATGTGAATATGTTAAAATATGTTAAAATATGTTAACGATGTTAGCCGTGATAAATATGTTATTAACGGCGTGCGTTAATATGTTAGCGACGACTGGGGGTCAATATGTTAGCCAACTTCCTCAATATGTTAACCGGTTAATATGTTAGTTAAGATCAATAAATATGTTAGCTACGTAGACAATAAAAGCATAAGCAATATGTTATAATATGTTAGACAGTTCTCTAACCGATAATATGTTAAGGCATACTTAACCAGCGAATGACAGAAATATGTTAATATGTTAAATAAATATGTTAGATAATATGTTACGATATTACCCGCACATTGCTCCGAATATGAATATGTTAAGGTGGTTCTCCGTATTTAATATTGTGAGAGATAGCTTGTGAGAGATGTTGTTGTGAGAGAGCTGTGAGAGCTTTGCGAGCCTTTAAATATTGTGAGAGTTATGTAGTCGGCCTGTGAGAGATGTGTGAGAGAGTTAAATATGTTAGTTAGCTGAGAGCTACGCTGTGAGAGGCGAATTGACGTAGTGCTTTTTGTTCTGTGAGAGATGTGTGAGAGTGTGAGAGCGCGTGTGAGTGTGAGAGTGATTGTGCATGGTCCAGTAAGATGTGAGAGTGTGAGAGTGATCTAACGCTATGTGTGAGAGAGGGTGTGAGAGGCTGCGTATGAAGCACAAATGTGAGAGTTGTGAGAGATACGTTAAGAGCCCGGAAGCTCGGCATCATAAGCTGAGCAGATTCAATGTGAGAGGGCGAGCCGACGGTAGGCTGTGAGAGTCATTATTGTGAGAGTCGCGTGGTGTGAGAGTCCCATTTTATGTGAGATGTGAGAGCTCTGGGGCTGTGATGTGAGAGAGTACGCCGAAGCGTGTGAGAGTCCTGTGAGAGATTCGGAGGTCTGGATGACATTGTGAGAGCCTGCTTACGCGACGTGATGAACGCGACCGACTAGCGACCGCCCACTACTACTCGCAGTTGGTCTAGAGGCATTGCTTTACTGAAATACGCAGGATGCTTATGACGCTCGCGCCAATACATCGCGCTCGCACTGTATGTCGCTTCACCTTAATCCTAAAGCTCAAATATAACGGAAAAAGAGAAATTAGGACGACCGAGGGTCGTCCTCCGGTGGTTTTCACGACTTCGCCAATGGCGTGCTGCGTCGAAATGTGCTCAAAGCCCCGTAAAGCTCAGACACCATGCAGGAATGGGAATGTGTACCCAGAGATCCCTAGTAAGAGAGATCCAAGACTTAAAGCCGTTCCGAGAGAGATCTAATCACTAGAGATCTTAACACCAATAGAGATCCTCTAAGAGATCAGTAGAGATCGCTTTTCAGAGATAGAGATCACTCACCGAGAGATCTTACAGTTTGATATGTCAGTTCGGTTAAAAGCAGAGATCGTCTGCAGAGATCGGTAGCGTAGAGATCCCGTGTCGTACAAAAACTTAGAGATCAGATCGCGCCTCGAACTGTACTTAGAGATCTACATTATCTAAGAGAGAGATCAGAGATCACAAGGCCACACACGACAAAGTTAGAGATCTACACACGATAGGTGGTGCCGAACCTGAGAGATCCGGGTTTTGAGAGAGATCAAGAGATAGAGATCGTTAGAGAAGAGATCTAGAGATCGCACGGGTTTTGGAGAGATCGTTCGGGTTTTGTCGGGAAGAGATTAATGCGGTGAGTTAATGCGGGTATAATGCGGCAGATAATGTAATGCGGTCTAATGTAATGCGGGAGATAATGCGGTGATGAAACTTAATGCGGCTAATGCGGTTAATGCGGTCGAACGCTAATGCGGAGCTAATGCGGGCGTAACATAATGTAATGCGGTTGTCAATATTGTTTTCAATATTAATATTCAATTACAATATTCAAACGCAATATTAAACGGCCGGTAATGCGGGGTCAATCAATATTTTCGTAATGCGGGGTTAATGCGGTTTTCAATATTATCGGTAATGCGGGAGCTGGCAATATTGGTTTTGGTAATGCGGTTTAATAATGCGGGGCGACAATATTGGGTAATGCGGATATTTATCAATATTGTGTTTCAATATTTAACACAATATTTGCCGTAGGTATGACCTAATTAATGCGGATATTAGGGGCCAATTAATGCGGATCGTAATGCGGGTCGGGCTTATAACAATTAATGCGGTCAATATTACTAATGCTAATGCGGCGGACTACAATATTTACAAAAGACTACCAATAATGCGGATAATGCGGTCAATAATGCGGAAGATAACGCGGCAATATTGCCCGACAATATTTGACTACACAAGACTACACAATATTCCGTTATTCTGTGCCAACGCCAGGTCAATGCGTCGAACCAATATTCTTGATTGTGATGCAGACTACACGACTACAATATTTACCCCCGGGACTACATATCCACGACTACAGGGCGAGACTACATAGGGACTACAGACTACAACAATTATGGTCACATTAACTCTGCCCGGCGGCTCTTCCCTAAATCTCACGTGATGGACTAGACTACACCGACTACAACATACTTTGCAACGACTACAGTACGTTAAGACTACAGGATTCAGACTACACTTGATTTCCTGACTACACTTCTGACAACCCGCACATTGCCCGCTAACTCTGATGGCCCCCAGAGACTACATACCATCGAGCGCGACTACAGGACTACAGCCGTAGACCCTTTAGACTACACGCCAGGGCCAACTGACACGGATAAGGTCTTTGCCCCGCAAGTGCTCGCCGAATGTGATTAATCTCAACATTCCGACCTGCAAGAGCACACGCATTTGATATGGGTATAAGGAAGATCTCGTCCAGCTATAATGTACAACATTTCCCCGTCATGACTTGCTACATAAACAGAATAAGACGTGACGTCGCCAATATAAGACGTACTCGATTGACCGTAAAATTTTTCTAAGAACCAAAATAAGACGTAAGACGTTCACTTAAATAAGACGTAGGGCGTTACCGATAAGACGTTAAGACGTGGATCGCCATCGCCCGTGAGTCGCTCTCCCGCATAAGACGTTAAGACGTCCCAATAGTGCTCCCTACACTTTACCGGTGGTAGATAAGACGTAGACGTTATAAGACGTCGGGTAAATATAAGACGTTATTCCCAATAAATAAGACGTAATCCCTGTAACACTGGAAGTGATAAGACGTTTGTTCTAACATAAGACGTTGTAACTGCCCTAACCCTGATAAGACGTTTTAAAAAGTACTATAAGACGTTCGAGGAATGAGACCATAAGACGTCGTCCCTCCCTCAGCACTGAATTTTTTCGAAGATAAGACGTAAGACGTGTTGGTTTATCGTTAGAAATAAGACGTACGTTTATAAGACGTAATGGTCATAAGACGTACGTTAAGACGTAATAAGACGTTATCCATCCCAAAATTACACGTCAGAAATCATGGCAACCGCCGTGATGGAAGAGAGTAGCAACCGACTACATACAGTATACTGTGGGCAGACTCGTTTGTACACCAACACTTCCGCCGCCATTATTAAATACGATTGGTGCTTTACGCATCTTGATGACCATGGTTACTCACCTCGGGTGCTGACCCGCCTGTCTCCTATGACGTCGGGCTCCACTACGGCCCCGTTTCGACAGATAGGGGGGAGTTGACCTCGAATGCGGGTTACTTCGCCTGCCTTTCGACGAATCGGTATGGCTAGCTTGGACAAGTATAGGATTGGTCTTTCAAGCTGCACTGTTTTGCAGCTTCTAGCGAGATAAGGCTGAAGCCTCCAGCGATATTGTCCAGTTGGAAAAAAGTTGGAAAAATGGGGGTTTGGAAAAAAGAAAACGCCCGGGTTACACCGGGGACATAATTGGAAAAAACCAGTTGGAAAAAGCTTAGAAAGCTTGGAAAAAGTCTTGGGAACAATTATTGGAAAAACGATGGGCGACTGAGAGTTGGAAAAAAAAATTGGAAAAATTGGAAAAACGTGGCTTTGGAAAAATGGAAAAAGATTGGAAAAATTGGAAAAACTTTTGGAATTGGAAAAAAAAGCCACTGCGGGTGCTTTGGAAAAAATATTTGGAAAAAACTAGCAAAGCGGCATTCTGAGAGATTGGAAAAACGTGCTAAGCTTCTTTGGAAAAAGAATTGGAAAAAAAAAAGCGCACCACTCAGGAAGACATGTCTGGCACTTTAGCGTTAAAGTTTGGAAAAAACTCCTCCCACATTTGGAAAAATGGAAAAAGAATCGGTTAGAGCGGCACGTGTCATATTGGAAAAATACTCAGCGCGTTAGCAGTTGGAAAAAAATGATGACTATGTTTGGAAGACAAGGAGAAAGTCTCCGAACAACATCCATGACAAGGAGGAGGCTGGACAAGGATTCAGGCTGTTCAGACAAGGAGGGACGACAAGGAAGGACTGTTCAGGCTGGACAAGACAAGGACTGTTGACAAGGACAGGACAAGGACGAAAGGCTGTTCAGGGACAAGGAAGGACAGGCTGTTCAGAGGACGAGGACGACAAGGAAGGCTGTTCAGGCTGTTCAGGAGGACGAGGAAGGATGTTCGACAAGAGGACGACAGGCTAGGACGACGAAGAGGACGACTGTTCAGGCTGTAGGACGAGGACGAAAGGATGTTGACAAGGAGGAGAGGAGGACGAGGAAGGACGAAAGGAGACAAGGAGACAAGGAGACAAGGAAGGACGAAGGACGAAGGACGAAGGACGAAGGACGAAGGACGAAGGACAGAGGACAGGACGACGAAGGACGAAGGACGAAGGACAGGACGAAGGACGAAGGACGAAGGACGACAATCATCAATCATCAATCATCAATCATCAATCATCAATCATCAATCATCAATCATCAATCATCAATCATCAATCATCAATCATCAATCATCAATCATCAATCATCAATCATCAATCATCAATCATCAATCATCAATCATCAATCATCAATCATCAATCATCAATCATCAATCATCAATCATCAATCATCAATCATCAATCATCAATCATCAATCATCAATCATCAATCATCAATCATCAATCATCAATCATCAATCATCAATCAT'"
            ]
          },
          "execution_count": 21,
          "metadata": {},
          "output_type": "execute_result"
        }
      ],
      "source": [
        "file = 'DNA.txt'\n",
        "dat = open(file, 'r').read() #mengupload dan open file\n",
        "dat = dat [:-1] #declare \n",
        "seq = 'ACT' \n",
        "dat #"
      ]
    },
    {
      "cell_type": "code",
      "execution_count": null,
      "id": "ae169042",
      "metadata": {
        "id": "ae169042"
      },
      "outputs": [],
      "source": [
        "def append_n (dat, i, n):\n",
        "    return reduce(lambda a,b: a+b, dat[i:i+n]) \n",
        "                   \n",
        "def remap(dat,seq):\n",
        "    return map(lambda x: append_n(dat,x,len(seq)), range(len(dat) - len(seq)))  #define dan model fungsi remap untuk \n",
        "                  \n",
        "def count_mer(dat,seq):\n",
        "    return reduce(lambda a,b: a + (1 if b==seq else 0), remap(dat,seq), 0) #model dari fungsi count_mer"
      ]
    },
    {
      "cell_type": "code",
      "execution_count": null,
      "id": "b475138c",
      "metadata": {
        "id": "b475138c",
        "outputId": "d4d22e62-075c-49aa-d280-519ec3fb842d"
      },
      "outputs": [
        {
          "name": "stdout",
          "output_type": "stream",
          "text": [
            "2112 556 77 22 5\n"
          ]
        }
      ],
      "source": [
        "sequences = ['A', 'AT', 'GGT', 'AAGC', 'AGCTA']\n",
        "\n",
        "def count_all(dat, sequences):\n",
        "    return map(lambda x:count_mer(dat,x), sequences)\n",
        "\n",
        "res = count_all(dat,sequences)\n",
        "print(* res) # declare ras dengan fungsi yang sudah di define"
      ]
    },
    {
      "cell_type": "markdown",
      "id": "1e046386",
      "metadata": {
        "id": "1e046386"
      },
      "source": [
        "# No 5\n"
      ]
    },
    {
      "cell_type": "code",
      "execution_count": null,
      "id": "e499092d",
      "metadata": {
        "id": "e499092d"
      },
      "outputs": [],
      "source": [
        "def komplemen (x):\n",
        "    return {'A':'T','T':'A','C':'G','G':'C'}.get(x)\n",
        "\n",
        "#definisi komplemen digunakan untuk mendefine reverse komplemen. sehingga pola huruf berubah dan berganti sesuai def komplemen "
      ]
    },
    {
      "cell_type": "code",
      "execution_count": null,
      "id": "cac8658c",
      "metadata": {
        "id": "cac8658c"
      },
      "outputs": [],
      "source": [
        "def reverse_komplemen(dat):\n",
        "    return map(lambda x:komplemen(x), dat)"
      ]
    },
    {
      "cell_type": "code",
      "execution_count": null,
      "id": "7fc6f9b4",
      "metadata": {
        "id": "7fc6f9b4",
        "outputId": "a7b6f68f-1318-4e8c-ded8-e1e74bb02d51"
      },
      "outputs": [
        {
          "name": "stdout",
          "output_type": "stream",
          "text": [
            "A C A G A A G G C C G A C T C G C C A A G G A T T G G T C G T C T G A C T A T G A C C A G C T T A T A G C T G C C C G T T C T C G G G A C C C T A A C T A C G C A A A G T G G T A C G C G C A G A G T C A C G T C C G T C C T T A C G T C T C G A A T G A A G T T T G A T C A A T G A C C G T T T T T T A T G T T T A A A A A A G C T A G C T G G A A C T C A A A T A A G T A A T G G C G T G T C A G A A A A T G G C G T G G A C A A T G G C G T G T A G G C A T T C A A A T G G C G T G C A A T G G C G T G A T G G A G A G A T A T A A T G G C G T G A A G C A A A T G G C G T G C G A C T C C T T G C C A A T G G C G T G A A T G G C G T G G T G T T C C A C G C A C G A G A C A A T A A T G G C G T G G T G G T A A T G G C G T G C G T G A A A A T A A T G G C G T G G T C C C G T G T C G G T G C A T C C C A T C G C A G C A A G A G T G A C A T A A C G C C G C T G C C A G C A T T A A A T G G C G T A A T G G C G T G G T G A G C A A T C G A A T G G C G T G G A T C C C A A C A A T G G C G T G C T G A A T G G C G T G T C G G C A A T G G C G T G C A C A A T G A A C T G C G A G A T T G A G G G T G A G T A T A G T C A G A A T A A T G G C G T G T G A C C C G A A T G G C G T G G G C G T G G A A T T C A T C C G T C A A T G G C G T G C A T A A T G G C G T G C A T T A A T G G C G T G T G G A C A T T T C C G T C C C A T T T C A T G T C T G A A T G G C G A A T G G C G T G C C A A C G T G G T G C T G T T T A G A T T G C A A T C C A T G C A A T G G C G T G C C C T T T A A T G G C G T G A G G T C C C A A A A T G G C G T G T C T A T A G G T A A G C C C T T A C A C T G G G G A C C T C A C C T C A A C A C G C T T T C T A T G C C T C A A A A G T T C C C G T G T G G G T C G A T A C A A T A A T T C G C A A T G T C A C C G G C G A C G T A G T A C A G T T A C A A G T C C A G T A A G A G A T A G A A C G A T A C A T G C T T G G G A G C A A T T C T C C C T C A T T C G C T A G A A A A C T G T T T T A G C A T A C G T A C A T C C G C T C C G T T A C G G C T A A T G T A A C T T G C C G C C C T G A A A A G C A T A C T C T G T G G C G C C A A C T T T A T A A A A A A A T A C G T T C T C G C C C T A A C C C G C C T T C C T C T G A A T T G C G T C A C G G A T C G T G A C A A T T G A C G C C G T A C C G G C C T A C C T G A T G G A T A A A A C G T C G A G G T C G C A A A C T C A A G G T G C A T G A C T G C C T T G T C A G G G C T C T A T C C G G T A C A C C A G C T A G G G T C A C T C T T T A C T C T G A G C T C T A C G G C C A T G G C C A T C G T A G T G G T G T A A C G A G G T C A T A C T A T A G T C A G A A G T G A C A G T C G T T A A T T A C G T C G C T A G A A C T T C T C T C A A T A A G T A G A G A A T A G T G G A C T G T T A T T T A G T T A A A T G G T C A G T T T A A G A G A A A T T G T A G C A C G G C T T G A C G C T A C G C A G C A T C A G A T C T A A T C C T A T A T A A A A G A A T C G A C C G A A G C T A C T A A C C G A C A T G C G A T T C C A C T A A C T T A A A G C T A G A C G T A A C C T C G A C A T G G G G T G G A A C G T A C C G T A A C T G T C G G A T T T C G C A C T T C T T A C G T T A T G T C G A C T G T C T T T T T A T T G C C C G A G C T A T T G C A A G G T T C T A A G A C T G A A T T G C T G C C G A T C G C T C G C T C A G T A T T T A G G G C A G G T G T G G C C C G T T A G C C C A G C C T C A C C T T T C C C G C C C T A A A A T A A T A A T G C A C T G C G T C T A G A G G C A C A G T G A T A T G A G T G T A G G A G A G A C A T C T A T T T C A A T A T G G T T G G A G G T A T A A G A A G A A T G C G A T T C A A G C C C G A T A G G C T C A G A G C C G G G T A T C G T C C T C G T G A A A T T C C C T T C A G G A T A A C G G C T T A T G T C A T G C A A G G G G C G T T A T A C A A T A T G A G T G G G T T T A T A C A A T T A T A C A A T A T A C A A T T T T G C G T C A C A C C C T T A T A C A A T T A T A C A A T A C A C T T A T A C A A T T T T A T A C A A T T T T A T A C A A T T G C T A C A A T C G G C A C T A T T T A T A C A A T A A T T G C C G C A C G C A A T T A T A C A A T C G C T G C T G A C C C C C A G T T A T A C A A T C G G T T G A A G G A G T T A T A C A A T T G G C C A A T T A T A C A A T C A A T T C T A G T T A T T T A T A C A A T C G A T G C A T C T G T T A T T T T C G T A T T C G T T A T A C A A T A T T A T A C A A T C T G T C A A G A G A T T G G C T A T T A T A C A A T T C C G T A T G A A T T G G T C G C T T A C T G T C T T T A T A C A A T T A T A C A A T T T A T T T A T A C A A T C T A T T A T A C A A T G C T A T A A T G G G C G T G T A A C G A G G C T T A T A C T T A T A C A A T T C C A C C A A G A G G C A T A A A T T A T A A C A C T C T C T A T C G A A C A C T C T C T A C A A C A A C A C T C T C T C G A C A C T C T C G A A A C G C T C G G A A A T T T A T A A C A C T C T C A A T A C A T C A G C C G G A C A C T C T C T A C A C A C T C T C T C A A T T T A T A C A A T C A A T C G A C T C T C G A T G C G A C A C T C T C C G C T T A A C T G C A T C A C G A A A A A C A A G A C A C T C T C T A C A C A C T C T C A C A C T C T C G C G C A C A C T C A C A C T C T C A C T A A C A C G T A C C A G G T C A T T C T A C A C T C T C A C A C T C T C A C T A G A T T G C G A T A C A C A C T C T C T C C C A C A C T C T C C G A C G C A T A C T T C G T G T T T A C A C T C T C A A C A C T C T C T A T G C A A T T C T C G G G C C T T C G A G C C G T A G T A T T C G A C T C G T C T A A G T T A C A C T C T C C C G C T C G G C T G C C A T C C G A C A C T C T C A G T A A T A A C A C T C T C A G C G C A C C A C A C T C T C A G G G T A A A A T A C A C T C T A C A C T C T C G A G A C C C C G A C A C T A C A C T C T C T C A T G C G G C T T C G C A C A C T C T C A G G A C A C T C T C T A A G C C T C C A G A C C T A C T G T A A C A C T C T C G G A C G A A T G C G C T G C A C T A C T T G C G C T G G C T G A T C G C T G G C G G G T G A T G A T G A G C G T C A A C C A G A T C T C C G T A A C G A A A T G A C T T T A T G C G T C C T A C G A A T A C T G C G A G C G C G G T T A T G T A G C G C G A G C G T G A C A T A C A G C G A A G T G G A A T T A G G A T T T C G A G T T T A T A T T G C C T T T T T C T C T T T A A T C C T G C T G G C T C C C A G C A G G A G G C C A C C A A A A G T G C T G A A G C G G T T A C C G C A C G A C G C A G C T T T A C A C G A G T T T C G G G G C A T T T C G A G T C T G T G G T A C G T C C T T A C C C T T A C A C A T G G G T C T C T A G G G A T C A T T C T C T C T A G G T T C T G A A T T T C G G C A A G G C T C T C T C T A G A T T A G T G A T C T C T A G A A T T G T G G T T A T C T C T A G G A G A T T C T C T A G T C A T C T C T A G C G A A A A G T C T C T A T C T C T A G T G A G T G G C T C T C T A G A A T G T C A A A C T A T A C A G T C A A G C C A A T T T T C G T C T C T A G C A G A C G T C T C T A G C C A T C G C A T C T C T A G G G C A C A G C A T G T T T T T G A A T C T C T A G T C T A G C G C G G A G C T T G A C A T G A A T C T C T A G A T G T A A T A G A T T C T C T C T C T A G T C T C T A G T G T T C C G G T G T G T G C T G T T T C A A T C T C T A G A T G T G T G C T A T C C A C C A C G G C T T G G A C T C T C T A G G C C C A A A A C T C T C T C T A G T T C T C T A T C T C T A G C A A T C T C T T C T C T A G A T C T C T A G C G T G C C C A A A A C C T C T C T A G C A A G C C C A A A A C A G C C C T T C T C T A A T T A C G C C A C T C A A T T A C G C C C A T A T T A C G C C G T C T A T T A C A T T A C G C C A G A T T A C A T T A C G C C C T C T A T T A C G C C A C T A C T T T G A A T T A C G C C G A T T A C G C C A A T T A C G C C A G C T T G C G A T T A C G C C T C G A T T A C G C C C G C A T T G T A T T A C A T T A C G C C A A C A G T T A T A A C A A A A G T T A T A A T T A T A A G T T A A T G T T A T A A G T T T G C G T T A T A A T T T G C C G G C C A T T A C G C C C C A G T T A G T T A T A A A A G C A T T A C G C C C C A A T T A C G C C A A A A G T T A T A A T A G C C A T T A C G C C C T C G A C C G T T A T A A C C A A A A C C A T T A C G C C A A A T T A T T A C G C C C C G C T G T T A T A A C C C A T T A C G C C T A T A A A T A G T T A T A A C A C A A A G T T A T A A A T T G T G T T A T A A A C G G C A T C C A T A C T G G A T T A A T T A C G C C T A T A A T C C C C G G T T A A T T A C G C C T A G C A T T A C G C C C A G C C C G A A T A T T G T T A A T T A C G C C A G T T A T A A T G A T T A C G A T T A C G C C G C C T G A T G T T A T A A A T G T T T T C T G A T G G T T A T T A C G C C T A T T A C G C C A G T T A T T A C G C C T T C T A T T G C G C C G T T A T A A C G G G C T G T T A T A A A C T G A T G T G T T C T G A T G T G T T A T A A G G C A A T A A G A C A C G G T T G C G G T C C A G T T A C G C A G C T T G G T T A T A A G A A C T A A C A C T A C G T C T G A T G T G C T G A T G T T A T A A A T G G G G G C C C T G A T G T A T A G G T G C T G A T G T C C C G C T C T G A T G T A T C C C T G A T G T C T G A T G T T G T T A A T A C C A G T G T A A T T G A G A C G G G C C G C C G A G A A G G G A T T T A G A G T G C A C T A C C T G A T C T G A T G T G G C T G A T G T T G T A T G A A A C G T T G C T G A T G T C A T G C A A T T C T G A T G T C C T A A G T C T G A T G T G A A C T A A A G G A C T G A T G T G A A G A C T G T T G G G C G T G T A A C G G G C G A T T G A G A C T A C C G G G G G T C T C T G A T G T A T G G T A G C T C G C G C T G A T G T C C T G A T G T C G G C A T C T G G G A A A T C T G A T G T G C G G T C C C G G T T G A C T G T G C C T A T T C C A G A A A C G G G G C G T T C A C G A G C G G C T T A C A C T A A T T A G A G T T G T A A G G C T G G A C G T T C T C G T G T G C G T A A A C T A T A C C C A T A T T C C T T C T A G A G C A G G T C G A T A T T A C A T G T T G T A A A G G G G C A G T A C T G A A C G A T G T A T T T G T C T T A T T C T G C A C T G C A G C G G T T A T A T T C T G C A T G A G C T A A C T G G C A T T T T A A A A A G A T T C T T G G T T T T A T T C T G C A T T C T G C A A G T G A A T T T A T T C T G C A T C C C G C A A T G G C T A T T C T G C A A T T C T G C A C C T A G C G G T A G C G G G C A C T C A G C G A G A G G G C G T A T T C T G C A A T T C T G C A G G G T T A T C A C G A G G G A T G T G A A A T G G C C A C C A T C T A T T C T G C A T C T G C A A T A T T C T G C A G C C C A T T T A T A T T C T G C A A T A A G G G T T A T T T A T T C T G C A T T A G G G A C A T T G T G A C C T T C A C T A T T C T G C A A A C A A G A T T G T A T T C T G C A A C A T T G A C G G G A T T G G G A C T A T T C T G C A A A A T T T T T C A T G A T A T T C T G C A A G C T C C T T A C T C T G G T A T T C T G C A G C A G G G A G G G A G T C G T G A C T T A A A A A A G C T T C T A T T C T G C A T T C T G C A C A A C C A A A T A G C A A T C T T T A T T C T G C A T G C A A A T A T T C T G C A T T A C C A G T A T T C T G C A T G C A A T T C T G C A T T A T T C T G C A A T A G G T A G G G T T T T A A T G T G C A G T C T T T A G T A C C G T T G G C G G C A C T A C C T T C T C T C A T C G T T G G C T G A T G T A T G T C A T A T G A C A C C C G T C T G A G C A A A C A T G T G G T T G T G A A G G C G G C G G T A A T A A T T T A T G C T A A C C A C G A A A T G C G T A G A A C T A C T G G T A C C A A T G A G T G G A G C C C A C G A C T G G G C G G A C A G A G G A T A C T G C A G C C C G A G G T G A T G C C G G G G C A A A G C T G T C T A T C C C C C C T C A A C T G G A G C T T A C G C C C A A T G A A G C G G A C G G A A A G C T G C T T A G C C A T A C C G A T C G A A C C T G T T C A T A T C C T A A C C A G A A A G T T C G A C G T G A C A A A A C G T C G A A G A T C G C T C T A T T C C G A C T T C G G A G G T C G C T A T A A C A G G T C A A C C T T T T T T C A A C C T T T T T A C C C C C A A A C C T T T T T T C T T T T G C G G G C C C A A T G T G G C C C C T G T A T T A A C C T T T T T T G G T C A A C C T T T T T C G A A T C T T T C G A A C C T T T T T C A G A A C C C T T G T T A A T A A C C T T T T T G C T A C C C G C T G A C T C T C A A C C T T T T T T T T T A A C C T T T T T A A C C T T T T T G C A C C G A A A C C T T T T T A C C T T T T T C T A A C C T T T T T A A C C T T T T T G A A A A C C T T A A C C T T T T T T T T C G G T G A C G C C C A C G A A A C C T T T T T T A T A A A C C T T T T T T G A T C G T T T C G C C G T A A G A C T C T C T A A C C T T T T T G C A C G A T T C G A A G A A A C C T T T T T C T T A A C C T T T T T T T T T T C G C G T G G T G A G T C C T T C T G T A C A G A C C G T G A A A T C G C A A T T T C A A A C C T T T T T T G A G G A G G G T G T A A A C C T T T T T A C C T T T T T C T T A G C C A A T C T C G C C G T G C A C A G T A T A A C C T T T T T A T G A G T C G C G C A A T C G T C A A C C T T T T T T T A C T A C T G A T A C A A A C C T T C T G T T C C T C T T T C A G A G G C T T G T T G T A G G T A C T G T T C C T C C T C C G A C C T G T T C C T A A G T C C G A C A A G T C T G T T C C T C C C T G C T G T T C C T T C C T G A C A A G T C C G A C C T G T T C T G T T C C T G A C A A C T G T T C C T G T C C T G T T C C T G C T T T C C G A C A A G T C C C T G T T C C T T C C T G T C C G A C A A G T C T C C T G C T C C T G C T G T T C C T T C C G A C A A G T C C G A C A A G T C C T C C T G C T C C T T C C T A C A A G C T G T T C T C C T G C T G T C C G A T C C T G C T G C T T C T C C T G C T G A C A A G T C C G A C A T C C T G C T C C T G C T T T C C T A C A A C T G T T C C T C C T C T C C T C C T G C T C C T T C C T G C T T T C C T C T G T T C C T C T G T T C C T C T G T T C C T T C C T G C T T C C T G C T T C C T G C T T C C T G C T T C C T G C T T C C T G C T T C C T G T C T C C T G T C C T G C T G C T T C C T G C T T C C T G C T T C C T G T C C T G C T T C C T G C T T C C T G C T T C C T G C T G T T A G T A G T T A G T A G T T A G T A G T T A G T A G T T A G T A G T T A G T A G T T A G T A G T T A G T A G T T A G T A G T T A G T A G T T A G T A G T T A G T A G T T A G T A G T T A G T A G T T A G T A G T T A G T A G T T A G T A G T T A G T A G T T A G T A G T T A G T A G T T A G T A G T T A G T A G T T A G T A G T T A G T A G T T A G T A G T T A G T A G T T A G T A G T T A G T A G T T A G T A G T T A G T A G T T A G T A G T T A G T A G T T A G T A G T T A G T A G T T A G T A G T T A G T A G T T A G T A G T T A G T A\n"
          ]
        }
      ],
      "source": [
        "res = reverse_komplemen (dat)\n",
        "print(*res)"
      ]
    },
    {
      "cell_type": "markdown",
      "id": "d42111b6",
      "metadata": {
        "id": "d42111b6"
      },
      "source": [
        "# No 6\n"
      ]
    },
    {
      "cell_type": "code",
      "execution_count": null,
      "id": "341896eb",
      "metadata": {
        "id": "341896eb"
      },
      "outputs": [],
      "source": [
        "import math #import fungsi math untuk menyelesaikan persoalan tersebut\n",
        "\n",
        "def aktivasi(x):\n",
        "    return 1/ (1+ math.exp(-x))\n",
        "def WTi(W,i):\n",
        "    return list(map(lambda w:w[i], W))\n",
        "def WT(W):\n",
        "    return list(map(lambda i : WTi(W, i), range(len(W[0]))))\n",
        "def XW(X,W):\n",
        "    return map( lambda w: reduce (lambda a,b:a+b, map(lambda xx, ww: xx * ww, X, w), 0), WT(W))\n",
        "def input_to_hidden(X,W):\n",
        "    return list(map(lambda x:aktivasi(x), XW(X,W)))\n",
        "def feed_forward(X,W,M):\n",
        "    return input_to_hidden(input_to_hidden(X,W), M)"
      ]
    },
    {
      "cell_type": "code",
      "execution_count": null,
      "id": "614eb1e5",
      "metadata": {
        "id": "614eb1e5",
        "outputId": "59b814db-e874-498a-a1bf-fd05b9e32000"
      },
      "outputs": [
        {
          "data": {
            "text/plain": [
              "[0.6876336740661236]"
            ]
          },
          "execution_count": 38,
          "metadata": {},
          "output_type": "execute_result"
        }
      ],
      "source": [
        "X = [9, 10, -4]\n",
        "W = [[0.5, 0.4], [0.3, 0.7], [0.25, 0.9]]\n",
        "M = [[0.34],[0.45]]\n",
        "\n",
        "feed_forward(X, W, M)"
      ]
    },
    {
      "cell_type": "code",
      "execution_count": null,
      "id": "15a0289e",
      "metadata": {
        "id": "15a0289e",
        "outputId": "e7539706-c047-4555-ecc2-f52c22decfaf"
      },
      "outputs": [
        {
          "data": {
            "text/plain": [
              "[0.5, 0.3, 0.25]"
            ]
          },
          "execution_count": 40,
          "metadata": {},
          "output_type": "execute_result"
        }
      ],
      "source": [
        "WTi(W,0)"
      ]
    },
    {
      "cell_type": "code",
      "execution_count": null,
      "id": "92eb622f",
      "metadata": {
        "id": "92eb622f",
        "outputId": "c84a68df-bc47-4155-fc5f-a514333bde65"
      },
      "outputs": [
        {
          "data": {
            "text/plain": [
              "[9, 10, -4]"
            ]
          },
          "execution_count": 42,
          "metadata": {},
          "output_type": "execute_result"
        }
      ],
      "source": [
        "X"
      ]
    },
    {
      "cell_type": "code",
      "execution_count": null,
      "id": "b6c261ca",
      "metadata": {
        "id": "b6c261ca"
      },
      "outputs": [],
      "source": []
    }
  ],
  "metadata": {
    "kernelspec": {
      "display_name": "Python 3 (ipykernel)",
      "language": "python",
      "name": "python3"
    },
    "language_info": {
      "codemirror_mode": {
        "name": "ipython",
        "version": 3
      },
      "file_extension": ".py",
      "mimetype": "text/x-python",
      "name": "python",
      "nbconvert_exporter": "python",
      "pygments_lexer": "ipython3",
      "version": "3.9.10"
    },
    "colab": {
      "provenance": []
    }
  },
  "nbformat": 4,
  "nbformat_minor": 5
}