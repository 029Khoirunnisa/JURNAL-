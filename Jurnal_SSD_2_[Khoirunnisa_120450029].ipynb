{
  "cells": [
    {
      "cell_type": "code",
      "execution_count": null,
      "metadata": {
        "id": "SVb4G0ToZwp9",
        "outputId": "0aadd103-2e57-4d5d-ac4d-206cf1a57e6d"
      },
      "outputs": [
        {
          "data": {
            "text/html": [
              "<div>\n",
              "<style scoped>\n",
              "    .dataframe tbody tr th:only-of-type {\n",
              "        vertical-align: middle;\n",
              "    }\n",
              "\n",
              "    .dataframe tbody tr th {\n",
              "        vertical-align: top;\n",
              "    }\n",
              "\n",
              "    .dataframe thead th {\n",
              "        text-align: right;\n",
              "    }\n",
              "</style>\n",
              "<table border=\"1\" class=\"dataframe\">\n",
              "  <thead>\n",
              "    <tr style=\"text-align: right;\">\n",
              "      <th></th>\n",
              "      <th>video_id</th>\n",
              "      <th>trending_date</th>\n",
              "      <th>title</th>\n",
              "      <th>channel_title</th>\n",
              "      <th>category_id</th>\n",
              "      <th>publish_time</th>\n",
              "      <th>tags</th>\n",
              "      <th>views</th>\n",
              "      <th>likes</th>\n",
              "      <th>dislikes</th>\n",
              "      <th>comment_count</th>\n",
              "      <th>thumbnail_link</th>\n",
              "      <th>comments_disabled</th>\n",
              "      <th>ratings_disabled</th>\n",
              "      <th>video_error_or_removed</th>\n",
              "      <th>description</th>\n",
              "    </tr>\n",
              "  </thead>\n",
              "  <tbody>\n",
              "    <tr>\n",
              "      <th>0</th>\n",
              "      <td>2kyS6SvSYSE</td>\n",
              "      <td>17.14.11</td>\n",
              "      <td>WE WANT TO TALK ABOUT OUR MARRIAGE</td>\n",
              "      <td>CaseyNeistat</td>\n",
              "      <td>22</td>\n",
              "      <td>2017-11-13T17:13:01.000Z</td>\n",
              "      <td>SHANtell martin</td>\n",
              "      <td>748374</td>\n",
              "      <td>57527</td>\n",
              "      <td>2966</td>\n",
              "      <td>15954</td>\n",
              "      <td>https://i.ytimg.com/vi/2kyS6SvSYSE/default.jpg</td>\n",
              "      <td>False</td>\n",
              "      <td>False</td>\n",
              "      <td>False</td>\n",
              "      <td>SHANTELL'S CHANNEL - https://www.youtube.com/s...</td>\n",
              "    </tr>\n",
              "    <tr>\n",
              "      <th>1</th>\n",
              "      <td>1ZAPwfrtAFY</td>\n",
              "      <td>17.14.11</td>\n",
              "      <td>The Trump Presidency: Last Week Tonight with J...</td>\n",
              "      <td>LastWeekTonight</td>\n",
              "      <td>24</td>\n",
              "      <td>2017-11-13T07:30:00.000Z</td>\n",
              "      <td>last week tonight trump presidency|\"last week ...</td>\n",
              "      <td>2418783</td>\n",
              "      <td>97185</td>\n",
              "      <td>6146</td>\n",
              "      <td>12703</td>\n",
              "      <td>https://i.ytimg.com/vi/1ZAPwfrtAFY/default.jpg</td>\n",
              "      <td>False</td>\n",
              "      <td>False</td>\n",
              "      <td>False</td>\n",
              "      <td>One year after the presidential election, John...</td>\n",
              "    </tr>\n",
              "    <tr>\n",
              "      <th>2</th>\n",
              "      <td>5qpjK5DgCt4</td>\n",
              "      <td>17.14.11</td>\n",
              "      <td>Racist Superman | Rudy Mancuso, King Bach &amp; Le...</td>\n",
              "      <td>Rudy Mancuso</td>\n",
              "      <td>23</td>\n",
              "      <td>2017-11-12T19:05:24.000Z</td>\n",
              "      <td>racist superman|\"rudy\"|\"mancuso\"|\"king\"|\"bach\"...</td>\n",
              "      <td>3191434</td>\n",
              "      <td>146033</td>\n",
              "      <td>5339</td>\n",
              "      <td>8181</td>\n",
              "      <td>https://i.ytimg.com/vi/5qpjK5DgCt4/default.jpg</td>\n",
              "      <td>False</td>\n",
              "      <td>False</td>\n",
              "      <td>False</td>\n",
              "      <td>WATCH MY PREVIOUS VIDEO ▶ \\n\\nSUBSCRIBE ► http...</td>\n",
              "    </tr>\n",
              "    <tr>\n",
              "      <th>3</th>\n",
              "      <td>puqaWrEC7tY</td>\n",
              "      <td>17.14.11</td>\n",
              "      <td>Nickelback Lyrics: Real or Fake?</td>\n",
              "      <td>Good Mythical Morning</td>\n",
              "      <td>24</td>\n",
              "      <td>2017-11-13T11:00:04.000Z</td>\n",
              "      <td>rhett and link|\"gmm\"|\"good mythical morning\"|\"...</td>\n",
              "      <td>343168</td>\n",
              "      <td>10172</td>\n",
              "      <td>666</td>\n",
              "      <td>2146</td>\n",
              "      <td>https://i.ytimg.com/vi/puqaWrEC7tY/default.jpg</td>\n",
              "      <td>False</td>\n",
              "      <td>False</td>\n",
              "      <td>False</td>\n",
              "      <td>Today we find out if Link is a Nickelback amat...</td>\n",
              "    </tr>\n",
              "    <tr>\n",
              "      <th>4</th>\n",
              "      <td>d380meD0W0M</td>\n",
              "      <td>17.14.11</td>\n",
              "      <td>I Dare You: GOING BALD!?</td>\n",
              "      <td>nigahiga</td>\n",
              "      <td>24</td>\n",
              "      <td>2017-11-12T18:01:41.000Z</td>\n",
              "      <td>ryan|\"higa\"|\"higatv\"|\"nigahiga\"|\"i dare you\"|\"...</td>\n",
              "      <td>2095731</td>\n",
              "      <td>132235</td>\n",
              "      <td>1989</td>\n",
              "      <td>17518</td>\n",
              "      <td>https://i.ytimg.com/vi/d380meD0W0M/default.jpg</td>\n",
              "      <td>False</td>\n",
              "      <td>False</td>\n",
              "      <td>False</td>\n",
              "      <td>I know it's been a while since we did this sho...</td>\n",
              "    </tr>\n",
              "    <tr>\n",
              "      <th>...</th>\n",
              "      <td>...</td>\n",
              "      <td>...</td>\n",
              "      <td>...</td>\n",
              "      <td>...</td>\n",
              "      <td>...</td>\n",
              "      <td>...</td>\n",
              "      <td>...</td>\n",
              "      <td>...</td>\n",
              "      <td>...</td>\n",
              "      <td>...</td>\n",
              "      <td>...</td>\n",
              "      <td>...</td>\n",
              "      <td>...</td>\n",
              "      <td>...</td>\n",
              "      <td>...</td>\n",
              "      <td>...</td>\n",
              "    </tr>\n",
              "    <tr>\n",
              "      <th>40944</th>\n",
              "      <td>BZt0qjTWNhw</td>\n",
              "      <td>18.14.06</td>\n",
              "      <td>The Cat Who Caught the Laser</td>\n",
              "      <td>AaronsAnimals</td>\n",
              "      <td>15</td>\n",
              "      <td>2018-05-18T13:00:04.000Z</td>\n",
              "      <td>aarons animals|\"aarons\"|\"animals\"|\"cat\"|\"cats\"...</td>\n",
              "      <td>1685609</td>\n",
              "      <td>38160</td>\n",
              "      <td>1385</td>\n",
              "      <td>2657</td>\n",
              "      <td>https://i.ytimg.com/vi/BZt0qjTWNhw/default.jpg</td>\n",
              "      <td>False</td>\n",
              "      <td>False</td>\n",
              "      <td>False</td>\n",
              "      <td>The Cat Who Caught the Laser - Aaron's Animals</td>\n",
              "    </tr>\n",
              "    <tr>\n",
              "      <th>40945</th>\n",
              "      <td>1h7KV2sjUWY</td>\n",
              "      <td>18.14.06</td>\n",
              "      <td>True Facts : Ant Mutualism</td>\n",
              "      <td>zefrank1</td>\n",
              "      <td>22</td>\n",
              "      <td>2018-05-18T01:00:06.000Z</td>\n",
              "      <td>[none]</td>\n",
              "      <td>1064798</td>\n",
              "      <td>60008</td>\n",
              "      <td>382</td>\n",
              "      <td>3936</td>\n",
              "      <td>https://i.ytimg.com/vi/1h7KV2sjUWY/default.jpg</td>\n",
              "      <td>False</td>\n",
              "      <td>False</td>\n",
              "      <td>False</td>\n",
              "      <td>NaN</td>\n",
              "    </tr>\n",
              "    <tr>\n",
              "      <th>40946</th>\n",
              "      <td>D6Oy4LfoqsU</td>\n",
              "      <td>18.14.06</td>\n",
              "      <td>I GAVE SAFIYA NYGAARD A PERFECT HAIR MAKEOVER ...</td>\n",
              "      <td>Brad Mondo</td>\n",
              "      <td>24</td>\n",
              "      <td>2018-05-18T17:34:22.000Z</td>\n",
              "      <td>I gave safiya nygaard a perfect hair makeover ...</td>\n",
              "      <td>1066451</td>\n",
              "      <td>48068</td>\n",
              "      <td>1032</td>\n",
              "      <td>3992</td>\n",
              "      <td>https://i.ytimg.com/vi/D6Oy4LfoqsU/default.jpg</td>\n",
              "      <td>False</td>\n",
              "      <td>False</td>\n",
              "      <td>False</td>\n",
              "      <td>I had so much fun transforming Safiyas hair in...</td>\n",
              "    </tr>\n",
              "    <tr>\n",
              "      <th>40947</th>\n",
              "      <td>oV0zkMe1K8s</td>\n",
              "      <td>18.14.06</td>\n",
              "      <td>How Black Panther Should Have Ended</td>\n",
              "      <td>How It Should Have Ended</td>\n",
              "      <td>1</td>\n",
              "      <td>2018-05-17T17:00:04.000Z</td>\n",
              "      <td>Black Panther|\"HISHE\"|\"Marvel\"|\"Infinity War\"|...</td>\n",
              "      <td>5660813</td>\n",
              "      <td>192957</td>\n",
              "      <td>2846</td>\n",
              "      <td>13088</td>\n",
              "      <td>https://i.ytimg.com/vi/oV0zkMe1K8s/default.jpg</td>\n",
              "      <td>False</td>\n",
              "      <td>False</td>\n",
              "      <td>False</td>\n",
              "      <td>How Black Panther Should Have EndedWatch More ...</td>\n",
              "    </tr>\n",
              "    <tr>\n",
              "      <th>40948</th>\n",
              "      <td>ooyjaVdt-jA</td>\n",
              "      <td>18.14.06</td>\n",
              "      <td>Official Call of Duty®: Black Ops 4 — Multipla...</td>\n",
              "      <td>Call of Duty</td>\n",
              "      <td>20</td>\n",
              "      <td>2018-05-17T17:09:38.000Z</td>\n",
              "      <td>call of duty|\"cod\"|\"activision\"|\"Black Ops 4\"</td>\n",
              "      <td>10306119</td>\n",
              "      <td>357079</td>\n",
              "      <td>212976</td>\n",
              "      <td>144795</td>\n",
              "      <td>https://i.ytimg.com/vi/ooyjaVdt-jA/default.jpg</td>\n",
              "      <td>False</td>\n",
              "      <td>False</td>\n",
              "      <td>False</td>\n",
              "      <td>Call of Duty: Black Ops 4 Multiplayer raises t...</td>\n",
              "    </tr>\n",
              "  </tbody>\n",
              "</table>\n",
              "<p>40949 rows × 16 columns</p>\n",
              "</div>"
            ],
            "text/plain": [
              "          video_id trending_date  \\\n",
              "0      2kyS6SvSYSE      17.14.11   \n",
              "1      1ZAPwfrtAFY      17.14.11   \n",
              "2      5qpjK5DgCt4      17.14.11   \n",
              "3      puqaWrEC7tY      17.14.11   \n",
              "4      d380meD0W0M      17.14.11   \n",
              "...            ...           ...   \n",
              "40944  BZt0qjTWNhw      18.14.06   \n",
              "40945  1h7KV2sjUWY      18.14.06   \n",
              "40946  D6Oy4LfoqsU      18.14.06   \n",
              "40947  oV0zkMe1K8s      18.14.06   \n",
              "40948  ooyjaVdt-jA      18.14.06   \n",
              "\n",
              "                                                   title  \\\n",
              "0                     WE WANT TO TALK ABOUT OUR MARRIAGE   \n",
              "1      The Trump Presidency: Last Week Tonight with J...   \n",
              "2      Racist Superman | Rudy Mancuso, King Bach & Le...   \n",
              "3                       Nickelback Lyrics: Real or Fake?   \n",
              "4                               I Dare You: GOING BALD!?   \n",
              "...                                                  ...   \n",
              "40944                       The Cat Who Caught the Laser   \n",
              "40945                         True Facts : Ant Mutualism   \n",
              "40946  I GAVE SAFIYA NYGAARD A PERFECT HAIR MAKEOVER ...   \n",
              "40947                How Black Panther Should Have Ended   \n",
              "40948  Official Call of Duty®: Black Ops 4 — Multipla...   \n",
              "\n",
              "                  channel_title  category_id              publish_time  \\\n",
              "0                  CaseyNeistat           22  2017-11-13T17:13:01.000Z   \n",
              "1               LastWeekTonight           24  2017-11-13T07:30:00.000Z   \n",
              "2                  Rudy Mancuso           23  2017-11-12T19:05:24.000Z   \n",
              "3         Good Mythical Morning           24  2017-11-13T11:00:04.000Z   \n",
              "4                      nigahiga           24  2017-11-12T18:01:41.000Z   \n",
              "...                         ...          ...                       ...   \n",
              "40944             AaronsAnimals           15  2018-05-18T13:00:04.000Z   \n",
              "40945                  zefrank1           22  2018-05-18T01:00:06.000Z   \n",
              "40946                Brad Mondo           24  2018-05-18T17:34:22.000Z   \n",
              "40947  How It Should Have Ended            1  2018-05-17T17:00:04.000Z   \n",
              "40948              Call of Duty           20  2018-05-17T17:09:38.000Z   \n",
              "\n",
              "                                                    tags     views   likes  \\\n",
              "0                                        SHANtell martin    748374   57527   \n",
              "1      last week tonight trump presidency|\"last week ...   2418783   97185   \n",
              "2      racist superman|\"rudy\"|\"mancuso\"|\"king\"|\"bach\"...   3191434  146033   \n",
              "3      rhett and link|\"gmm\"|\"good mythical morning\"|\"...    343168   10172   \n",
              "4      ryan|\"higa\"|\"higatv\"|\"nigahiga\"|\"i dare you\"|\"...   2095731  132235   \n",
              "...                                                  ...       ...     ...   \n",
              "40944  aarons animals|\"aarons\"|\"animals\"|\"cat\"|\"cats\"...   1685609   38160   \n",
              "40945                                             [none]   1064798   60008   \n",
              "40946  I gave safiya nygaard a perfect hair makeover ...   1066451   48068   \n",
              "40947  Black Panther|\"HISHE\"|\"Marvel\"|\"Infinity War\"|...   5660813  192957   \n",
              "40948      call of duty|\"cod\"|\"activision\"|\"Black Ops 4\"  10306119  357079   \n",
              "\n",
              "       dislikes  comment_count  \\\n",
              "0          2966          15954   \n",
              "1          6146          12703   \n",
              "2          5339           8181   \n",
              "3           666           2146   \n",
              "4          1989          17518   \n",
              "...         ...            ...   \n",
              "40944      1385           2657   \n",
              "40945       382           3936   \n",
              "40946      1032           3992   \n",
              "40947      2846          13088   \n",
              "40948    212976         144795   \n",
              "\n",
              "                                       thumbnail_link  comments_disabled  \\\n",
              "0      https://i.ytimg.com/vi/2kyS6SvSYSE/default.jpg              False   \n",
              "1      https://i.ytimg.com/vi/1ZAPwfrtAFY/default.jpg              False   \n",
              "2      https://i.ytimg.com/vi/5qpjK5DgCt4/default.jpg              False   \n",
              "3      https://i.ytimg.com/vi/puqaWrEC7tY/default.jpg              False   \n",
              "4      https://i.ytimg.com/vi/d380meD0W0M/default.jpg              False   \n",
              "...                                               ...                ...   \n",
              "40944  https://i.ytimg.com/vi/BZt0qjTWNhw/default.jpg              False   \n",
              "40945  https://i.ytimg.com/vi/1h7KV2sjUWY/default.jpg              False   \n",
              "40946  https://i.ytimg.com/vi/D6Oy4LfoqsU/default.jpg              False   \n",
              "40947  https://i.ytimg.com/vi/oV0zkMe1K8s/default.jpg              False   \n",
              "40948  https://i.ytimg.com/vi/ooyjaVdt-jA/default.jpg              False   \n",
              "\n",
              "       ratings_disabled  video_error_or_removed  \\\n",
              "0                 False                   False   \n",
              "1                 False                   False   \n",
              "2                 False                   False   \n",
              "3                 False                   False   \n",
              "4                 False                   False   \n",
              "...                 ...                     ...   \n",
              "40944             False                   False   \n",
              "40945             False                   False   \n",
              "40946             False                   False   \n",
              "40947             False                   False   \n",
              "40948             False                   False   \n",
              "\n",
              "                                             description  \n",
              "0      SHANTELL'S CHANNEL - https://www.youtube.com/s...  \n",
              "1      One year after the presidential election, John...  \n",
              "2      WATCH MY PREVIOUS VIDEO ▶ \\n\\nSUBSCRIBE ► http...  \n",
              "3      Today we find out if Link is a Nickelback amat...  \n",
              "4      I know it's been a while since we did this sho...  \n",
              "...                                                  ...  \n",
              "40944     The Cat Who Caught the Laser - Aaron's Animals  \n",
              "40945                                                NaN  \n",
              "40946  I had so much fun transforming Safiyas hair in...  \n",
              "40947  How Black Panther Should Have EndedWatch More ...  \n",
              "40948  Call of Duty: Black Ops 4 Multiplayer raises t...  \n",
              "\n",
              "[40949 rows x 16 columns]"
            ]
          },
          "execution_count": 12,
          "metadata": {},
          "output_type": "execute_result"
        }
      ],
      "source": [
        "import pandas as pd\n",
        "import numpy as np\n",
        "\n",
        "df = pd.read_csv('USvideos.csv')\n",
        "df = pd.DataFrame(df)\n",
        "df"
      ]
    },
    {
      "cell_type": "markdown",
      "metadata": {
        "id": "BOC3-_B4ZwqH"
      },
      "source": [
        "Nomor 2. ambil data secara acak 1% kemudian hitung rata-rata dan varians"
      ]
    },
    {
      "cell_type": "code",
      "execution_count": null,
      "metadata": {
        "id": "cVXGss72ZwqN",
        "outputId": "a391f9f5-19e1-4c47-f1e8-04ad4d839c9d"
      },
      "outputs": [
        {
          "data": {
            "text/plain": [
              "likes       7.392063e+04\n",
              "views       2.236292e+06\n",
              "dislikes    2.987738e+03\n",
              "dtype: float64"
            ]
          },
          "execution_count": 13,
          "metadata": {},
          "output_type": "execute_result"
        }
      ],
      "source": [
        "#a\n",
        "nim_029 = df.sample(frac=0.01)[['likes','views','dislikes']]\n",
        "nim_029.mean()"
      ]
    },
    {
      "cell_type": "code",
      "execution_count": null,
      "metadata": {
        "id": "ScovOpgkZwqQ",
        "outputId": "8b46e353-caac-4564-f48a-c69bc02171fb"
      },
      "outputs": [
        {
          "data": {
            "text/plain": [
              "likes       3.493559e+10\n",
              "views       3.501013e+13\n",
              "dislikes    9.446147e+07\n",
              "dtype: float64"
            ]
          },
          "execution_count": 14,
          "metadata": {},
          "output_type": "execute_result"
        }
      ],
      "source": [
        "nim_029.var()"
      ]
    },
    {
      "cell_type": "markdown",
      "metadata": {
        "id": "kC_yhi2_ZwqS"
      },
      "source": [
        "Nomor 3. ambil data video dengan jumlah dislke lebih daari 10% dengan cara quer dan boolean indexing"
      ]
    },
    {
      "cell_type": "code",
      "execution_count": null,
      "metadata": {
        "id": "6-nF_Lb3ZwqU",
        "outputId": "c6d482bb-aa3a-4e17-8cd7-43a8713108b0"
      },
      "outputs": [
        {
          "data": {
            "text/html": [
              "<div>\n",
              "<style scoped>\n",
              "    .dataframe tbody tr th:only-of-type {\n",
              "        vertical-align: middle;\n",
              "    }\n",
              "\n",
              "    .dataframe tbody tr th {\n",
              "        vertical-align: top;\n",
              "    }\n",
              "\n",
              "    .dataframe thead th {\n",
              "        text-align: right;\n",
              "    }\n",
              "</style>\n",
              "<table border=\"1\" class=\"dataframe\">\n",
              "  <thead>\n",
              "    <tr style=\"text-align: right;\">\n",
              "      <th></th>\n",
              "      <th>likes</th>\n",
              "      <th>views</th>\n",
              "      <th>dislikes</th>\n",
              "    </tr>\n",
              "  </thead>\n",
              "  <tbody>\n",
              "    <tr>\n",
              "      <th>32537</th>\n",
              "      <td>3914</td>\n",
              "      <td>198496</td>\n",
              "      <td>470</td>\n",
              "    </tr>\n",
              "    <tr>\n",
              "      <th>15906</th>\n",
              "      <td>14604</td>\n",
              "      <td>6053112</td>\n",
              "      <td>6269</td>\n",
              "    </tr>\n",
              "    <tr>\n",
              "      <th>38465</th>\n",
              "      <td>12235</td>\n",
              "      <td>1117850</td>\n",
              "      <td>2176</td>\n",
              "    </tr>\n",
              "    <tr>\n",
              "      <th>35382</th>\n",
              "      <td>4060</td>\n",
              "      <td>637984</td>\n",
              "      <td>420</td>\n",
              "    </tr>\n",
              "    <tr>\n",
              "      <th>27335</th>\n",
              "      <td>12367</td>\n",
              "      <td>1922653</td>\n",
              "      <td>1512</td>\n",
              "    </tr>\n",
              "    <tr>\n",
              "      <th>...</th>\n",
              "      <td>...</td>\n",
              "      <td>...</td>\n",
              "      <td>...</td>\n",
              "    </tr>\n",
              "    <tr>\n",
              "      <th>21026</th>\n",
              "      <td>780</td>\n",
              "      <td>67954</td>\n",
              "      <td>169</td>\n",
              "    </tr>\n",
              "    <tr>\n",
              "      <th>7000</th>\n",
              "      <td>4680</td>\n",
              "      <td>939086</td>\n",
              "      <td>1017</td>\n",
              "    </tr>\n",
              "    <tr>\n",
              "      <th>13693</th>\n",
              "      <td>39600</td>\n",
              "      <td>1087184</td>\n",
              "      <td>9427</td>\n",
              "    </tr>\n",
              "    <tr>\n",
              "      <th>12998</th>\n",
              "      <td>34809</td>\n",
              "      <td>1632401</td>\n",
              "      <td>3526</td>\n",
              "    </tr>\n",
              "    <tr>\n",
              "      <th>25077</th>\n",
              "      <td>156678</td>\n",
              "      <td>2762828</td>\n",
              "      <td>23485</td>\n",
              "    </tr>\n",
              "  </tbody>\n",
              "</table>\n",
              "<p>78 rows × 3 columns</p>\n",
              "</div>"
            ],
            "text/plain": [
              "        likes    views  dislikes\n",
              "32537    3914   198496       470\n",
              "15906   14604  6053112      6269\n",
              "38465   12235  1117850      2176\n",
              "35382    4060   637984       420\n",
              "27335   12367  1922653      1512\n",
              "...       ...      ...       ...\n",
              "21026     780    67954       169\n",
              "7000     4680   939086      1017\n",
              "13693   39600  1087184      9427\n",
              "12998   34809  1632401      3526\n",
              "25077  156678  2762828     23485\n",
              "\n",
              "[78 rows x 3 columns]"
            ]
          },
          "execution_count": 15,
          "metadata": {},
          "output_type": "execute_result"
        }
      ],
      "source": [
        "nim_029.query ('dislikes > (0.1* likes)')"
      ]
    },
    {
      "cell_type": "code",
      "execution_count": null,
      "metadata": {
        "id": "DTWOJVy6ZwqV",
        "outputId": "93865dbb-b357-4c41-e7ec-a9b46c542560"
      },
      "outputs": [
        {
          "data": {
            "text/html": [
              "<div>\n",
              "<style scoped>\n",
              "    .dataframe tbody tr th:only-of-type {\n",
              "        vertical-align: middle;\n",
              "    }\n",
              "\n",
              "    .dataframe tbody tr th {\n",
              "        vertical-align: top;\n",
              "    }\n",
              "\n",
              "    .dataframe thead th {\n",
              "        text-align: right;\n",
              "    }\n",
              "</style>\n",
              "<table border=\"1\" class=\"dataframe\">\n",
              "  <thead>\n",
              "    <tr style=\"text-align: right;\">\n",
              "      <th></th>\n",
              "      <th>likes</th>\n",
              "      <th>views</th>\n",
              "      <th>dislikes</th>\n",
              "    </tr>\n",
              "  </thead>\n",
              "  <tbody>\n",
              "    <tr>\n",
              "      <th>32537</th>\n",
              "      <td>3914</td>\n",
              "      <td>198496</td>\n",
              "      <td>470</td>\n",
              "    </tr>\n",
              "    <tr>\n",
              "      <th>15906</th>\n",
              "      <td>14604</td>\n",
              "      <td>6053112</td>\n",
              "      <td>6269</td>\n",
              "    </tr>\n",
              "    <tr>\n",
              "      <th>38465</th>\n",
              "      <td>12235</td>\n",
              "      <td>1117850</td>\n",
              "      <td>2176</td>\n",
              "    </tr>\n",
              "    <tr>\n",
              "      <th>35382</th>\n",
              "      <td>4060</td>\n",
              "      <td>637984</td>\n",
              "      <td>420</td>\n",
              "    </tr>\n",
              "    <tr>\n",
              "      <th>27335</th>\n",
              "      <td>12367</td>\n",
              "      <td>1922653</td>\n",
              "      <td>1512</td>\n",
              "    </tr>\n",
              "    <tr>\n",
              "      <th>...</th>\n",
              "      <td>...</td>\n",
              "      <td>...</td>\n",
              "      <td>...</td>\n",
              "    </tr>\n",
              "    <tr>\n",
              "      <th>21026</th>\n",
              "      <td>780</td>\n",
              "      <td>67954</td>\n",
              "      <td>169</td>\n",
              "    </tr>\n",
              "    <tr>\n",
              "      <th>7000</th>\n",
              "      <td>4680</td>\n",
              "      <td>939086</td>\n",
              "      <td>1017</td>\n",
              "    </tr>\n",
              "    <tr>\n",
              "      <th>13693</th>\n",
              "      <td>39600</td>\n",
              "      <td>1087184</td>\n",
              "      <td>9427</td>\n",
              "    </tr>\n",
              "    <tr>\n",
              "      <th>12998</th>\n",
              "      <td>34809</td>\n",
              "      <td>1632401</td>\n",
              "      <td>3526</td>\n",
              "    </tr>\n",
              "    <tr>\n",
              "      <th>25077</th>\n",
              "      <td>156678</td>\n",
              "      <td>2762828</td>\n",
              "      <td>23485</td>\n",
              "    </tr>\n",
              "  </tbody>\n",
              "</table>\n",
              "<p>78 rows × 3 columns</p>\n",
              "</div>"
            ],
            "text/plain": [
              "        likes    views  dislikes\n",
              "32537    3914   198496       470\n",
              "15906   14604  6053112      6269\n",
              "38465   12235  1117850      2176\n",
              "35382    4060   637984       420\n",
              "27335   12367  1922653      1512\n",
              "...       ...      ...       ...\n",
              "21026     780    67954       169\n",
              "7000     4680   939086      1017\n",
              "13693   39600  1087184      9427\n",
              "12998   34809  1632401      3526\n",
              "25077  156678  2762828     23485\n",
              "\n",
              "[78 rows x 3 columns]"
            ]
          },
          "execution_count": 55,
          "metadata": {},
          "output_type": "execute_result"
        }
      ],
      "source": [
        "nim_029[nim_029['dislikes']>0.1*nim_029['likes']]"
      ]
    },
    {
      "cell_type": "markdown",
      "metadata": {
        "id": "txEIzqNXZwqY"
      },
      "source": [
        "Nomor 4\n",
        "Dari query nomor 3, bandingkan ratio like dan dislike nya kemudian urutkan berdasarkan\n",
        "ratio terbesar"
      ]
    },
    {
      "cell_type": "code",
      "execution_count": null,
      "metadata": {
        "id": "x8mbCsYxZwqb"
      },
      "outputs": [],
      "source": [
        "df2 = nim_029.query('dislikes > 0.1 * likes')\n",
        "df2 = df2.assign(ratio = df2['likes']/df2['dislikes'])"
      ]
    },
    {
      "cell_type": "code",
      "execution_count": null,
      "metadata": {
        "id": "gMYxlKe_Zwqd",
        "outputId": "342a8254-c090-4f89-ac92-db72790255df"
      },
      "outputs": [
        {
          "data": {
            "text/html": [
              "<div>\n",
              "<style scoped>\n",
              "    .dataframe tbody tr th:only-of-type {\n",
              "        vertical-align: middle;\n",
              "    }\n",
              "\n",
              "    .dataframe tbody tr th {\n",
              "        vertical-align: top;\n",
              "    }\n",
              "\n",
              "    .dataframe thead th {\n",
              "        text-align: right;\n",
              "    }\n",
              "</style>\n",
              "<table border=\"1\" class=\"dataframe\">\n",
              "  <thead>\n",
              "    <tr style=\"text-align: right;\">\n",
              "      <th></th>\n",
              "      <th>likes</th>\n",
              "      <th>views</th>\n",
              "      <th>dislikes</th>\n",
              "      <th>ratio</th>\n",
              "    </tr>\n",
              "  </thead>\n",
              "  <tbody>\n",
              "    <tr>\n",
              "      <th>12998</th>\n",
              "      <td>34809</td>\n",
              "      <td>1632401</td>\n",
              "      <td>3526</td>\n",
              "      <td>9.872093</td>\n",
              "    </tr>\n",
              "    <tr>\n",
              "      <th>35382</th>\n",
              "      <td>4060</td>\n",
              "      <td>637984</td>\n",
              "      <td>420</td>\n",
              "      <td>9.666667</td>\n",
              "    </tr>\n",
              "    <tr>\n",
              "      <th>8478</th>\n",
              "      <td>65</td>\n",
              "      <td>21028</td>\n",
              "      <td>7</td>\n",
              "      <td>9.285714</td>\n",
              "    </tr>\n",
              "    <tr>\n",
              "      <th>27029</th>\n",
              "      <td>15610</td>\n",
              "      <td>505198</td>\n",
              "      <td>1696</td>\n",
              "      <td>9.204009</td>\n",
              "    </tr>\n",
              "    <tr>\n",
              "      <th>25251</th>\n",
              "      <td>39025</td>\n",
              "      <td>1865136</td>\n",
              "      <td>4274</td>\n",
              "      <td>9.130791</td>\n",
              "    </tr>\n",
              "    <tr>\n",
              "      <th>...</th>\n",
              "      <td>...</td>\n",
              "      <td>...</td>\n",
              "      <td>...</td>\n",
              "      <td>...</td>\n",
              "    </tr>\n",
              "    <tr>\n",
              "      <th>14884</th>\n",
              "      <td>238</td>\n",
              "      <td>42354</td>\n",
              "      <td>314</td>\n",
              "      <td>0.757962</td>\n",
              "    </tr>\n",
              "    <tr>\n",
              "      <th>19719</th>\n",
              "      <td>1014</td>\n",
              "      <td>99373</td>\n",
              "      <td>1536</td>\n",
              "      <td>0.660156</td>\n",
              "    </tr>\n",
              "    <tr>\n",
              "      <th>19374</th>\n",
              "      <td>768</td>\n",
              "      <td>102560</td>\n",
              "      <td>1452</td>\n",
              "      <td>0.528926</td>\n",
              "    </tr>\n",
              "    <tr>\n",
              "      <th>17761</th>\n",
              "      <td>1644</td>\n",
              "      <td>491323</td>\n",
              "      <td>4227</td>\n",
              "      <td>0.388928</td>\n",
              "    </tr>\n",
              "    <tr>\n",
              "      <th>13834</th>\n",
              "      <td>7</td>\n",
              "      <td>6064</td>\n",
              "      <td>23</td>\n",
              "      <td>0.304348</td>\n",
              "    </tr>\n",
              "  </tbody>\n",
              "</table>\n",
              "<p>78 rows × 4 columns</p>\n",
              "</div>"
            ],
            "text/plain": [
              "       likes    views  dislikes     ratio\n",
              "12998  34809  1632401      3526  9.872093\n",
              "35382   4060   637984       420  9.666667\n",
              "8478      65    21028         7  9.285714\n",
              "27029  15610   505198      1696  9.204009\n",
              "25251  39025  1865136      4274  9.130791\n",
              "...      ...      ...       ...       ...\n",
              "14884    238    42354       314  0.757962\n",
              "19719   1014    99373      1536  0.660156\n",
              "19374    768   102560      1452  0.528926\n",
              "17761   1644   491323      4227  0.388928\n",
              "13834      7     6064        23  0.304348\n",
              "\n",
              "[78 rows x 4 columns]"
            ]
          },
          "execution_count": 18,
          "metadata": {},
          "output_type": "execute_result"
        }
      ],
      "source": [
        "df2 = df2.sort_values('ratio', ascending=False)\n",
        "df2"
      ]
    },
    {
      "cell_type": "markdown",
      "metadata": {
        "id": "NlPpvJbgZwqg"
      },
      "source": [
        "Nomor 5. Buat kolom Baru pada dataframe sampel, yaitu label, dimana label bernilai 1 jika ratio <\n",
        "rata-rata ratio dan 0 jika >= rata rata ratio dengan menggunakan .where() dan .loc !"
      ]
    },
    {
      "cell_type": "code",
      "execution_count": null,
      "metadata": {
        "id": "YPo4Tc-5Zwqi",
        "outputId": "4e90a3e0-2e9f-4791-ef22-30c9353c1087"
      },
      "outputs": [
        {
          "data": {
            "text/html": [
              "<div>\n",
              "<style scoped>\n",
              "    .dataframe tbody tr th:only-of-type {\n",
              "        vertical-align: middle;\n",
              "    }\n",
              "\n",
              "    .dataframe tbody tr th {\n",
              "        vertical-align: top;\n",
              "    }\n",
              "\n",
              "    .dataframe thead th {\n",
              "        text-align: right;\n",
              "    }\n",
              "</style>\n",
              "<table border=\"1\" class=\"dataframe\">\n",
              "  <thead>\n",
              "    <tr style=\"text-align: right;\">\n",
              "      <th></th>\n",
              "      <th>likes</th>\n",
              "      <th>views</th>\n",
              "      <th>dislikes</th>\n",
              "      <th>ratio</th>\n",
              "      <th>label</th>\n",
              "    </tr>\n",
              "  </thead>\n",
              "  <tbody>\n",
              "    <tr>\n",
              "      <th>12998</th>\n",
              "      <td>34809</td>\n",
              "      <td>1632401</td>\n",
              "      <td>3526</td>\n",
              "      <td>9.872093</td>\n",
              "      <td>0</td>\n",
              "    </tr>\n",
              "    <tr>\n",
              "      <th>35382</th>\n",
              "      <td>4060</td>\n",
              "      <td>637984</td>\n",
              "      <td>420</td>\n",
              "      <td>9.666667</td>\n",
              "      <td>0</td>\n",
              "    </tr>\n",
              "    <tr>\n",
              "      <th>8478</th>\n",
              "      <td>65</td>\n",
              "      <td>21028</td>\n",
              "      <td>7</td>\n",
              "      <td>9.285714</td>\n",
              "      <td>0</td>\n",
              "    </tr>\n",
              "    <tr>\n",
              "      <th>27029</th>\n",
              "      <td>15610</td>\n",
              "      <td>505198</td>\n",
              "      <td>1696</td>\n",
              "      <td>9.204009</td>\n",
              "      <td>0</td>\n",
              "    </tr>\n",
              "    <tr>\n",
              "      <th>25251</th>\n",
              "      <td>39025</td>\n",
              "      <td>1865136</td>\n",
              "      <td>4274</td>\n",
              "      <td>9.130791</td>\n",
              "      <td>0</td>\n",
              "    </tr>\n",
              "    <tr>\n",
              "      <th>...</th>\n",
              "      <td>...</td>\n",
              "      <td>...</td>\n",
              "      <td>...</td>\n",
              "      <td>...</td>\n",
              "      <td>...</td>\n",
              "    </tr>\n",
              "    <tr>\n",
              "      <th>14884</th>\n",
              "      <td>238</td>\n",
              "      <td>42354</td>\n",
              "      <td>314</td>\n",
              "      <td>0.757962</td>\n",
              "      <td>0</td>\n",
              "    </tr>\n",
              "    <tr>\n",
              "      <th>19719</th>\n",
              "      <td>1014</td>\n",
              "      <td>99373</td>\n",
              "      <td>1536</td>\n",
              "      <td>0.660156</td>\n",
              "      <td>0</td>\n",
              "    </tr>\n",
              "    <tr>\n",
              "      <th>19374</th>\n",
              "      <td>768</td>\n",
              "      <td>102560</td>\n",
              "      <td>1452</td>\n",
              "      <td>0.528926</td>\n",
              "      <td>0</td>\n",
              "    </tr>\n",
              "    <tr>\n",
              "      <th>17761</th>\n",
              "      <td>1644</td>\n",
              "      <td>491323</td>\n",
              "      <td>4227</td>\n",
              "      <td>0.388928</td>\n",
              "      <td>0</td>\n",
              "    </tr>\n",
              "    <tr>\n",
              "      <th>13834</th>\n",
              "      <td>7</td>\n",
              "      <td>6064</td>\n",
              "      <td>23</td>\n",
              "      <td>0.304348</td>\n",
              "      <td>0</td>\n",
              "    </tr>\n",
              "  </tbody>\n",
              "</table>\n",
              "<p>78 rows × 5 columns</p>\n",
              "</div>"
            ],
            "text/plain": [
              "       likes    views  dislikes     ratio  label\n",
              "12998  34809  1632401      3526  9.872093      0\n",
              "35382   4060   637984       420  9.666667      0\n",
              "8478      65    21028         7  9.285714      0\n",
              "27029  15610   505198      1696  9.204009      0\n",
              "25251  39025  1865136      4274  9.130791      0\n",
              "...      ...      ...       ...       ...    ...\n",
              "14884    238    42354       314  0.757962      0\n",
              "19719   1014    99373      1536  0.660156      0\n",
              "19374    768   102560      1452  0.528926      0\n",
              "17761   1644   491323      4227  0.388928      0\n",
              "13834      7     6064        23  0.304348      0\n",
              "\n",
              "[78 rows x 5 columns]"
            ]
          },
          "execution_count": 20,
          "metadata": {},
          "output_type": "execute_result"
        }
      ],
      "source": [
        "df2 = df2.assign(label = np.zeros_like(df2['likes'].values))\n",
        "df2"
      ]
    },
    {
      "cell_type": "markdown",
      "metadata": {
        "id": "xkSIrCZJZwqj"
      },
      "source": [
        "Nomor 6. Temukan video yang memiliki likes = 0 ! berapakah views maksimum nya ?"
      ]
    },
    {
      "cell_type": "code",
      "execution_count": null,
      "metadata": {
        "id": "AnUw7Oa0Zwqk",
        "outputId": "58cf099e-e392-4bfd-9816-b4c75d0ac84e"
      },
      "outputs": [
        {
          "data": {
            "text/html": [
              "<div>\n",
              "<style scoped>\n",
              "    .dataframe tbody tr th:only-of-type {\n",
              "        vertical-align: middle;\n",
              "    }\n",
              "\n",
              "    .dataframe tbody tr th {\n",
              "        vertical-align: top;\n",
              "    }\n",
              "\n",
              "    .dataframe thead th {\n",
              "        text-align: right;\n",
              "    }\n",
              "</style>\n",
              "<table border=\"1\" class=\"dataframe\">\n",
              "  <thead>\n",
              "    <tr style=\"text-align: right;\">\n",
              "      <th></th>\n",
              "      <th>views</th>\n",
              "      <th>likes</th>\n",
              "      <th>dislikes</th>\n",
              "    </tr>\n",
              "  </thead>\n",
              "  <tbody>\n",
              "    <tr>\n",
              "      <th>count</th>\n",
              "      <td>1.720000e+02</td>\n",
              "      <td>172.0</td>\n",
              "      <td>172.000000</td>\n",
              "    </tr>\n",
              "    <tr>\n",
              "      <th>mean</th>\n",
              "      <td>4.052518e+06</td>\n",
              "      <td>0.0</td>\n",
              "      <td>0.029070</td>\n",
              "    </tr>\n",
              "    <tr>\n",
              "      <th>std</th>\n",
              "      <td>1.135538e+07</td>\n",
              "      <td>0.0</td>\n",
              "      <td>0.274178</td>\n",
              "    </tr>\n",
              "    <tr>\n",
              "      <th>min</th>\n",
              "      <td>1.456000e+03</td>\n",
              "      <td>0.0</td>\n",
              "      <td>0.000000</td>\n",
              "    </tr>\n",
              "    <tr>\n",
              "      <th>25%</th>\n",
              "      <td>7.713425e+04</td>\n",
              "      <td>0.0</td>\n",
              "      <td>0.000000</td>\n",
              "    </tr>\n",
              "    <tr>\n",
              "      <th>50%</th>\n",
              "      <td>4.290240e+05</td>\n",
              "      <td>0.0</td>\n",
              "      <td>0.000000</td>\n",
              "    </tr>\n",
              "    <tr>\n",
              "      <th>75%</th>\n",
              "      <td>1.012722e+06</td>\n",
              "      <td>0.0</td>\n",
              "      <td>0.000000</td>\n",
              "    </tr>\n",
              "    <tr>\n",
              "      <th>max</th>\n",
              "      <td>5.611196e+07</td>\n",
              "      <td>0.0</td>\n",
              "      <td>3.000000</td>\n",
              "    </tr>\n",
              "  </tbody>\n",
              "</table>\n",
              "</div>"
            ],
            "text/plain": [
              "              views  likes    dislikes\n",
              "count  1.720000e+02  172.0  172.000000\n",
              "mean   4.052518e+06    0.0    0.029070\n",
              "std    1.135538e+07    0.0    0.274178\n",
              "min    1.456000e+03    0.0    0.000000\n",
              "25%    7.713425e+04    0.0    0.000000\n",
              "50%    4.290240e+05    0.0    0.000000\n",
              "75%    1.012722e+06    0.0    0.000000\n",
              "max    5.611196e+07    0.0    3.000000"
            ]
          },
          "execution_count": 21,
          "metadata": {},
          "output_type": "execute_result"
        }
      ],
      "source": [
        "df3 = df.query('likes == 0')\n",
        "df3 [['views','likes','dislikes']].describe()"
      ]
    },
    {
      "cell_type": "markdown",
      "metadata": {
        "id": "Rk_d221TZwqm"
      },
      "source": [
        "No 7. Jelaskan mengapa ada views yang sangat tinggi tetapi likes = 0"
      ]
    },
    {
      "cell_type": "code",
      "execution_count": null,
      "metadata": {
        "id": "UvsLiwc3Zwqo",
        "outputId": "461acb81-4093-4913-8214-409b3901b1ce"
      },
      "outputs": [
        {
          "data": {
            "text/html": [
              "<div>\n",
              "<style scoped>\n",
              "    .dataframe tbody tr th:only-of-type {\n",
              "        vertical-align: middle;\n",
              "    }\n",
              "\n",
              "    .dataframe tbody tr th {\n",
              "        vertical-align: top;\n",
              "    }\n",
              "\n",
              "    .dataframe thead th {\n",
              "        text-align: right;\n",
              "    }\n",
              "</style>\n",
              "<table border=\"1\" class=\"dataframe\">\n",
              "  <thead>\n",
              "    <tr style=\"text-align: right;\">\n",
              "      <th></th>\n",
              "      <th>category_id</th>\n",
              "      <th>views</th>\n",
              "      <th>likes</th>\n",
              "      <th>dislikes</th>\n",
              "      <th>comment_count</th>\n",
              "    </tr>\n",
              "  </thead>\n",
              "  <tbody>\n",
              "    <tr>\n",
              "      <th>count</th>\n",
              "      <td>169.000000</td>\n",
              "      <td>1.690000e+02</td>\n",
              "      <td>169.0</td>\n",
              "      <td>169.0</td>\n",
              "      <td>169.000000</td>\n",
              "    </tr>\n",
              "    <tr>\n",
              "      <th>mean</th>\n",
              "      <td>18.384615</td>\n",
              "      <td>4.124415e+06</td>\n",
              "      <td>0.0</td>\n",
              "      <td>0.0</td>\n",
              "      <td>412.106509</td>\n",
              "    </tr>\n",
              "    <tr>\n",
              "      <th>std</th>\n",
              "      <td>8.812869</td>\n",
              "      <td>1.144330e+07</td>\n",
              "      <td>0.0</td>\n",
              "      <td>0.0</td>\n",
              "      <td>1075.762958</td>\n",
              "    </tr>\n",
              "    <tr>\n",
              "      <th>min</th>\n",
              "      <td>1.000000</td>\n",
              "      <td>1.456000e+03</td>\n",
              "      <td>0.0</td>\n",
              "      <td>0.0</td>\n",
              "      <td>0.000000</td>\n",
              "    </tr>\n",
              "    <tr>\n",
              "      <th>25%</th>\n",
              "      <td>10.000000</td>\n",
              "      <td>8.583300e+04</td>\n",
              "      <td>0.0</td>\n",
              "      <td>0.0</td>\n",
              "      <td>0.000000</td>\n",
              "    </tr>\n",
              "    <tr>\n",
              "      <th>50%</th>\n",
              "      <td>22.000000</td>\n",
              "      <td>4.594910e+05</td>\n",
              "      <td>0.0</td>\n",
              "      <td>0.0</td>\n",
              "      <td>0.000000</td>\n",
              "    </tr>\n",
              "    <tr>\n",
              "      <th>75%</th>\n",
              "      <td>24.000000</td>\n",
              "      <td>1.015005e+06</td>\n",
              "      <td>0.0</td>\n",
              "      <td>0.0</td>\n",
              "      <td>179.000000</td>\n",
              "    </tr>\n",
              "    <tr>\n",
              "      <th>max</th>\n",
              "      <td>29.000000</td>\n",
              "      <td>5.611196e+07</td>\n",
              "      <td>0.0</td>\n",
              "      <td>0.0</td>\n",
              "      <td>5286.000000</td>\n",
              "    </tr>\n",
              "  </tbody>\n",
              "</table>\n",
              "</div>"
            ],
            "text/plain": [
              "       category_id         views  likes  dislikes  comment_count\n",
              "count   169.000000  1.690000e+02  169.0     169.0     169.000000\n",
              "mean     18.384615  4.124415e+06    0.0       0.0     412.106509\n",
              "std       8.812869  1.144330e+07    0.0       0.0    1075.762958\n",
              "min       1.000000  1.456000e+03    0.0       0.0       0.000000\n",
              "25%      10.000000  8.583300e+04    0.0       0.0       0.000000\n",
              "50%      22.000000  4.594910e+05    0.0       0.0       0.000000\n",
              "75%      24.000000  1.015005e+06    0.0       0.0     179.000000\n",
              "max      29.000000  5.611196e+07    0.0       0.0    5286.000000"
            ]
          },
          "execution_count": 22,
          "metadata": {},
          "output_type": "execute_result"
        }
      ],
      "source": [
        "df.query('ratings_disabled == True').describe()"
      ]
    },
    {
      "cell_type": "code",
      "execution_count": null,
      "metadata": {
        "id": "QZoBaSLkZwqr",
        "outputId": "059d250d-21fe-44e5-aa19-a20a9cca1c23"
      },
      "outputs": [
        {
          "data": {
            "text/html": [
              "<div>\n",
              "<style scoped>\n",
              "    .dataframe tbody tr th:only-of-type {\n",
              "        vertical-align: middle;\n",
              "    }\n",
              "\n",
              "    .dataframe tbody tr th {\n",
              "        vertical-align: top;\n",
              "    }\n",
              "\n",
              "    .dataframe thead th {\n",
              "        text-align: right;\n",
              "    }\n",
              "</style>\n",
              "<table border=\"1\" class=\"dataframe\">\n",
              "  <thead>\n",
              "    <tr style=\"text-align: right;\">\n",
              "      <th></th>\n",
              "      <th>video_id</th>\n",
              "      <th>trending_date</th>\n",
              "      <th>title</th>\n",
              "      <th>channel_title</th>\n",
              "      <th>category_id</th>\n",
              "      <th>publish_time</th>\n",
              "      <th>tags</th>\n",
              "      <th>views</th>\n",
              "      <th>likes</th>\n",
              "      <th>dislikes</th>\n",
              "      <th>comment_count</th>\n",
              "      <th>thumbnail_link</th>\n",
              "      <th>comments_disabled</th>\n",
              "      <th>ratings_disabled</th>\n",
              "      <th>video_error_or_removed</th>\n",
              "      <th>description</th>\n",
              "    </tr>\n",
              "  </thead>\n",
              "  <tbody>\n",
              "    <tr>\n",
              "      <th>192</th>\n",
              "      <td>wRGldR_SQAA</td>\n",
              "      <td>17.14.11</td>\n",
              "      <td>Apple Clips sample</td>\n",
              "      <td>Steve Kovach</td>\n",
              "      <td>22</td>\n",
              "      <td>2017-11-09T18:01:04.000Z</td>\n",
              "      <td>[none]</td>\n",
              "      <td>2259</td>\n",
              "      <td>0</td>\n",
              "      <td>0</td>\n",
              "      <td>0</td>\n",
              "      <td>https://i.ytimg.com/vi/wRGldR_SQAA/default.jpg</td>\n",
              "      <td>False</td>\n",
              "      <td>False</td>\n",
              "      <td>False</td>\n",
              "      <td>Clips 2.0 lets you use augmented reality and s...</td>\n",
              "    </tr>\n",
              "    <tr>\n",
              "      <th>1490</th>\n",
              "      <td>A_mlvG_nRsg</td>\n",
              "      <td>17.21.11</td>\n",
              "      <td>Kelly Oubre Punches John Wall in the Lead duri...</td>\n",
              "      <td>Rob Andretti</td>\n",
              "      <td>17</td>\n",
              "      <td>2017-10-28T11:15:14.000Z</td>\n",
              "      <td>[none]</td>\n",
              "      <td>2197</td>\n",
              "      <td>0</td>\n",
              "      <td>2</td>\n",
              "      <td>0</td>\n",
              "      <td>https://i.ytimg.com/vi/A_mlvG_nRsg/default.jpg</td>\n",
              "      <td>False</td>\n",
              "      <td>False</td>\n",
              "      <td>False</td>\n",
              "      <td>I'm BACK! \\n\\n• Will you be apart of the take ...</td>\n",
              "    </tr>\n",
              "    <tr>\n",
              "      <th>1741</th>\n",
              "      <td>A_mlvG_nRsg</td>\n",
              "      <td>17.22.11</td>\n",
              "      <td>Kelly Oubre Punches John Wall in the Lead duri...</td>\n",
              "      <td>Rob Andretti</td>\n",
              "      <td>17</td>\n",
              "      <td>2017-10-28T11:15:14.000Z</td>\n",
              "      <td>[none]</td>\n",
              "      <td>2447</td>\n",
              "      <td>0</td>\n",
              "      <td>3</td>\n",
              "      <td>1</td>\n",
              "      <td>https://i.ytimg.com/vi/A_mlvG_nRsg/default.jpg</td>\n",
              "      <td>False</td>\n",
              "      <td>False</td>\n",
              "      <td>False</td>\n",
              "      <td>I'm BACK! \\n\\n• Will you be apart of the take ...</td>\n",
              "    </tr>\n",
              "  </tbody>\n",
              "</table>\n",
              "</div>"
            ],
            "text/plain": [
              "         video_id trending_date  \\\n",
              "192   wRGldR_SQAA      17.14.11   \n",
              "1490  A_mlvG_nRsg      17.21.11   \n",
              "1741  A_mlvG_nRsg      17.22.11   \n",
              "\n",
              "                                                  title channel_title  \\\n",
              "192                                  Apple Clips sample  Steve Kovach   \n",
              "1490  Kelly Oubre Punches John Wall in the Lead duri...  Rob Andretti   \n",
              "1741  Kelly Oubre Punches John Wall in the Lead duri...  Rob Andretti   \n",
              "\n",
              "      category_id              publish_time    tags  views  likes  dislikes  \\\n",
              "192            22  2017-11-09T18:01:04.000Z  [none]   2259      0         0   \n",
              "1490           17  2017-10-28T11:15:14.000Z  [none]   2197      0         2   \n",
              "1741           17  2017-10-28T11:15:14.000Z  [none]   2447      0         3   \n",
              "\n",
              "      comment_count                                  thumbnail_link  \\\n",
              "192               0  https://i.ytimg.com/vi/wRGldR_SQAA/default.jpg   \n",
              "1490              0  https://i.ytimg.com/vi/A_mlvG_nRsg/default.jpg   \n",
              "1741              1  https://i.ytimg.com/vi/A_mlvG_nRsg/default.jpg   \n",
              "\n",
              "      comments_disabled  ratings_disabled  video_error_or_removed  \\\n",
              "192               False             False                   False   \n",
              "1490              False             False                   False   \n",
              "1741              False             False                   False   \n",
              "\n",
              "                                            description  \n",
              "192   Clips 2.0 lets you use augmented reality and s...  \n",
              "1490  I'm BACK! \\n\\n• Will you be apart of the take ...  \n",
              "1741  I'm BACK! \\n\\n• Will you be apart of the take ...  "
            ]
          },
          "execution_count": 25,
          "metadata": {},
          "output_type": "execute_result"
        }
      ],
      "source": [
        "df.query('ratings_disabled == False and likes==0')"
      ]
    },
    {
      "cell_type": "markdown",
      "metadata": {
        "id": "iMJdAHtRZwqt"
      },
      "source": [
        "karenaa........."
      ]
    },
    {
      "cell_type": "markdown",
      "metadata": {
        "id": "x0VHTZCGZwqu"
      },
      "source": [
        "8. Berapa presentase video dengan likes lebih banyak dari dislikes dengan video likes lebih sedikit\n",
        "dari dislikes ?"
      ]
    },
    {
      "cell_type": "code",
      "execution_count": null,
      "metadata": {
        "id": "wPv9aUE-Zwqv"
      },
      "outputs": [],
      "source": [
        "likes = '(likes > dislikes)'\n",
        "dislikes = '(likes < dislikes)'"
      ]
    },
    {
      "cell_type": "code",
      "execution_count": null,
      "metadata": {
        "id": "e4XBaqSzZwqw"
      },
      "outputs": [],
      "source": [
        "df_likes = df.query(likes)"
      ]
    },
    {
      "cell_type": "code",
      "execution_count": null,
      "metadata": {
        "id": "Hhhbmht_Zwqx"
      },
      "outputs": [],
      "source": [
        "df_dislikes = df.query(dislikes)"
      ]
    },
    {
      "cell_type": "code",
      "execution_count": null,
      "metadata": {
        "id": "M2RrOpHEZwqy",
        "outputId": "8877438f-6d1a-4753-949c-983fca5cbbe0"
      },
      "outputs": [
        {
          "name": "stdout",
          "output_type": "stream",
          "text": [
            "[0.9858712715855573, 0.0141287284144427]\n"
          ]
        }
      ],
      "source": [
        "bandi = lambda L:list(map(lambda x:x/sum(L),L))\n",
        "re = [df_likes.shape[0], df_dislikes.shape[0]]\n",
        "print (bandi(re))"
      ]
    },
    {
      "cell_type": "markdown",
      "metadata": {
        "id": "xRRFN3rdZwq0"
      },
      "source": [
        "9. Bagaimana perbandingan rata rata dan standard deviasi jumlah views antara video dengan\n",
        "likes lebih banyak dari dislikes dengan video likes lebih sedikit dari dislikes ?"
      ]
    },
    {
      "cell_type": "code",
      "execution_count": null,
      "metadata": {
        "id": "FKRwNh3BZwq1"
      },
      "outputs": [],
      "source": [
        "r1 = df_likes.loc[:,'views'].mean()\n",
        "st1 = df_likes.loc[:,'views'].std()"
      ]
    },
    {
      "cell_type": "code",
      "execution_count": null,
      "metadata": {
        "id": "zU-ig2MrZwq2"
      },
      "outputs": [],
      "source": [
        "r2 = df_dislikes.loc[:,'views'].mean()\n",
        "st2 = df_dislikes.loc[:,'views'].std()"
      ]
    },
    {
      "cell_type": "code",
      "execution_count": null,
      "metadata": {
        "id": "0ZTsTKLIZwq3",
        "outputId": "f93e8f7f-92c7-490f-f78d-466f3fd6baad"
      },
      "outputs": [
        {
          "name": "stdout",
          "output_type": "stream",
          "text": [
            "[0.6936325660781124, 0.3063674339218876]\n"
          ]
        }
      ],
      "source": [
        "print(bandi([r1, r2]))"
      ]
    },
    {
      "cell_type": "code",
      "execution_count": null,
      "metadata": {
        "id": "fE4OIdBQZwq4",
        "outputId": "eb7d53a2-dad8-4a4d-c831-e4cb59f223ef"
      },
      "outputs": [
        {
          "name": "stdout",
          "output_type": "stream",
          "text": [
            "[0.6525291274590552, 0.34747087254094483]\n"
          ]
        }
      ],
      "source": [
        "print(bandi([st1, st2]))"
      ]
    },
    {
      "cell_type": "markdown",
      "metadata": {
        "id": "f0EHJf0FZwq6"
      },
      "source": [
        "10. Bagaimana perbandingan rata rata dan standard deviasi jumlah comment antara video den-\n",
        "gan likes lebih banyak dari dislikes dengan video likes lebih sedikit dari dislikes ?"
      ]
    },
    {
      "cell_type": "code",
      "execution_count": null,
      "metadata": {
        "id": "JUuerWxKZwq7"
      },
      "outputs": [],
      "source": [
        "r1=df_likes.loc[:,'comment_count'].mean()\n",
        "st1=df_likes.loc[:,'comment_count'].std()"
      ]
    },
    {
      "cell_type": "code",
      "execution_count": null,
      "metadata": {
        "id": "MmHZitFxZwq8"
      },
      "outputs": [],
      "source": [
        "r2=df_dislikes.loc[:,'comment_count'].mean()\n",
        "st2=df_dislikes.loc[:,'comment_count'].std()"
      ]
    },
    {
      "cell_type": "code",
      "execution_count": null,
      "metadata": {
        "id": "BqblPKzZZwq8",
        "outputId": "4a7538dd-af4a-45a5-8849-eeb4aa974b54"
      },
      "outputs": [
        {
          "name": "stdout",
          "output_type": "stream",
          "text": [
            "[0.348787682929341, 0.6512123170706591]\n"
          ]
        }
      ],
      "source": [
        "print(bandi([r1,r2]))"
      ]
    },
    {
      "cell_type": "code",
      "execution_count": null,
      "metadata": {
        "id": "n-XTNKEmZwq9",
        "outputId": "721ad98d-be8a-4e91-85ff-2a78ec651ef5"
      },
      "outputs": [
        {
          "name": "stdout",
          "output_type": "stream",
          "text": [
            "[0.2269874820781624, 0.7730125179218377]\n"
          ]
        }
      ],
      "source": [
        "print(bandi([st1,st2]))"
      ]
    },
    {
      "cell_type": "markdown",
      "metadata": {
        "id": "xfwia8fwZwq-"
      },
      "source": [
        "11. Berapa ratio rata-rata jumlah likes/dislikes untuk video dengan komentar yang dinonaktifkan\n",
        "?"
      ]
    },
    {
      "cell_type": "code",
      "execution_count": null,
      "metadata": {
        "id": "8avHgHD8Zwq_"
      },
      "outputs": [],
      "source": [
        "df4=df.query('comments_disabled==True')\n",
        "df4=df4.assign(ratio=df4['likes']/(df4['likes']+df4['dislikes']))"
      ]
    },
    {
      "cell_type": "code",
      "execution_count": null,
      "metadata": {
        "id": "hxfhLNT5ZwrA",
        "outputId": "bdaef70d-bfc2-4614-84f7-66899291ea5b"
      },
      "outputs": [
        {
          "name": "stdout",
          "output_type": "stream",
          "text": [
            "0.8324019250989896:0.16759807490101042\n"
          ]
        }
      ],
      "source": [
        "r1=df4['ratio'].mean()\n",
        "print(r1,1-r1,sep=':')\n"
      ]
    },
    {
      "cell_type": "markdown",
      "metadata": {
        "id": "Ld5fNLWEZwrB"
      },
      "source": [
        "12. Berapa ratio rata-rata jumlah comments/views untuk video dengan ratings yang dinonak-\n",
        "tifkan ?"
      ]
    },
    {
      "cell_type": "code",
      "execution_count": null,
      "metadata": {
        "id": "nBwtsncOZwrC"
      },
      "outputs": [],
      "source": [
        "df5=df.query('ratings_disabled==True')\n",
        "df5=df5.assign(ratio=df5['comment_count']/(df5['views']+df5['comment_count']))"
      ]
    },
    {
      "cell_type": "code",
      "execution_count": null,
      "metadata": {
        "id": "vNNbVOImZwrE",
        "outputId": "12f1d25f-0d83-4220-cfad-108e6b99dcf2"
      },
      "outputs": [
        {
          "name": "stdout",
          "output_type": "stream",
          "text": [
            "0.0018133621624128002 0.9981866378375872\n"
          ]
        }
      ],
      "source": [
        "r1=df5['ratio'].mean()\n",
        "print(r1,1-r1)"
      ]
    },
    {
      "cell_type": "markdown",
      "metadata": {
        "id": "NUWrfI_WZwrF"
      },
      "source": [
        "13. Berapa rata-rata jumlah views untuk video yang tidak memiliki tags ?"
      ]
    },
    {
      "cell_type": "code",
      "execution_count": null,
      "metadata": {
        "id": "lLsodnMxZwrG",
        "outputId": "fc7441e0-a5ea-4183-bf4c-14ad842edcda"
      },
      "outputs": [
        {
          "data": {
            "text/plain": [
              "0          748374\n",
              "1         2418783\n",
              "2         3191434\n",
              "3          343168\n",
              "4         2095731\n",
              "           ...   \n",
              "40944     1685609\n",
              "40945     1064798\n",
              "40946     1066451\n",
              "40947     5660813\n",
              "40948    10306119\n",
              "Name: views, Length: 40949, dtype: int64"
            ]
          },
          "execution_count": 60,
          "metadata": {},
          "output_type": "execute_result"
        }
      ],
      "source": [
        "df.query('tags==\"[none]\"')['views'].mean()\n",
        "df['views']"
      ]
    },
    {
      "cell_type": "markdown",
      "metadata": {
        "id": "RyFMigM3ZwrH"
      },
      "source": [
        "14. Lakukan query untuk menentukan jumlah perbandingan rata-rata viewers yang tidak\n",
        "melakukan rating like/dislike dengan yang meninggalkan ratings like/dislike"
      ]
    },
    {
      "cell_type": "code",
      "execution_count": null,
      "metadata": {
        "id": "tsF-5TN3ZwrI",
        "outputId": "ab59e349-1059-4220-ffbc-20ab3e457231"
      },
      "outputs": [
        {
          "data": {
            "text/plain": [
              "0         60493\n",
              "1        103331\n",
              "2        151372\n",
              "3         10838\n",
              "4        134224\n",
              "          ...  \n",
              "40944     39545\n",
              "40945     60390\n",
              "40946     49100\n",
              "40947    195803\n",
              "40948    570055\n",
              "Length: 40949, dtype: int64"
            ]
          },
          "execution_count": 61,
          "metadata": {},
          "output_type": "execute_result"
        }
      ],
      "source": [
        "df['likes']+df['dislikes']\n"
      ]
    },
    {
      "cell_type": "code",
      "execution_count": null,
      "metadata": {
        "id": "eBF_de0-ZwrJ",
        "outputId": "8095ecd3-b871-4a72-bcaf-8181b7d0f37d"
      },
      "outputs": [
        {
          "data": {
            "text/plain": [
              "0         687881\n",
              "1        2315452\n",
              "2        3040062\n",
              "3         332330\n",
              "4        1961507\n",
              "          ...   \n",
              "40944    1646064\n",
              "40945    1004408\n",
              "40946    1017351\n",
              "40947    5465010\n",
              "40948    9736064\n",
              "Length: 40949, dtype: int64"
            ]
          },
          "execution_count": 62,
          "metadata": {},
          "output_type": "execute_result"
        }
      ],
      "source": [
        "df['views']-(df['likes']+df['dislikes'])"
      ]
    },
    {
      "cell_type": "code",
      "execution_count": null,
      "metadata": {
        "id": "3AaLYo8fZwrK",
        "outputId": "445ede94-cccb-42b8-d02b-41bb7c0cef65"
      },
      "outputs": [
        {
          "name": "stdout",
          "output_type": "stream",
          "text": [
            "0.9639728697489444 0.03602713025105564\n"
          ]
        }
      ],
      "source": [
        "r1=((df['views']-(df['likes']+df['dislikes']))/df['views']).mean()\n",
        "print(r1,1-r1)"
      ]
    },
    {
      "cell_type": "markdown",
      "metadata": {
        "id": "aNZx_9AlZwrL"
      },
      "source": [
        "nomor 15"
      ]
    },
    {
      "cell_type": "code",
      "execution_count": null,
      "metadata": {
        "id": "OVukCB6LZwrM"
      },
      "outputs": [],
      "source": [
        "df2=df.copy()\n",
        "df2=df2.assign(kluster=np.zeros_like(df['likes'].values))\n",
        "\n",
        "klus1=df2.query('likes < 10**6 and views < 50 * 10**6')\n",
        "klus2=df2.query('likes < 10**6 and views >= 50 * 10**6')\n",
        "klus3=df2.query('likes >= 10**6 and views >= 50 * 10**6')\n",
        "klus4=df2.query('likes >= 10**6 and views < 50 * 10**6')\n",
        "\n",
        "df2.loc[klus1.index,'kluster'] = 1\n",
        "df2.loc[klus2.index,'kluster'] = 2\n",
        "df2.loc[klus3.index,'kluster'] = 3\n",
        "df2.loc[klus4.index,'kluster'] = 4"
      ]
    },
    {
      "cell_type": "code",
      "execution_count": null,
      "metadata": {
        "id": "SqeEqsMOZwrN",
        "outputId": "be604759-f96d-4fd2-b9e0-644b211f48e1"
      },
      "outputs": [
        {
          "data": {
            "text/plain": [
              "40542"
            ]
          },
          "execution_count": 65,
          "metadata": {},
          "output_type": "execute_result"
        }
      ],
      "source": [
        "df2.query('kluster==1').count()['video_id']"
      ]
    },
    {
      "cell_type": "code",
      "execution_count": null,
      "metadata": {
        "id": "pcZKZTQQZwrO",
        "outputId": "a5a47512-beed-4052-808b-7f58be620742"
      },
      "outputs": [
        {
          "data": {
            "text/plain": [
              "38"
            ]
          },
          "execution_count": 66,
          "metadata": {},
          "output_type": "execute_result"
        }
      ],
      "source": [
        "df2.query('kluster==2').count()['video_id']"
      ]
    },
    {
      "cell_type": "code",
      "execution_count": null,
      "metadata": {
        "id": "tN-NOiv-ZwrP",
        "outputId": "e9ed05c6-9ea4-45be-f453-902b69aabc52"
      },
      "outputs": [
        {
          "data": {
            "text/plain": [
              "139"
            ]
          },
          "execution_count": 67,
          "metadata": {},
          "output_type": "execute_result"
        }
      ],
      "source": [
        "df2.query('kluster==3').count()['video_id']"
      ]
    },
    {
      "cell_type": "code",
      "execution_count": null,
      "metadata": {
        "id": "hMJtSFJBZwrQ",
        "outputId": "27da048d-5cf7-4943-b086-c2443efbd8c1"
      },
      "outputs": [
        {
          "data": {
            "text/plain": [
              "230"
            ]
          },
          "execution_count": 68,
          "metadata": {},
          "output_type": "execute_result"
        }
      ],
      "source": [
        "df2.query('kluster==4').count()['video_id']"
      ]
    }
  ],
  "metadata": {
    "interpreter": {
      "hash": "db1a8c55cd8c57749aba357ad6d7f02ea33a41f5335b95db64c81822b40200a7"
    },
    "kernelspec": {
      "display_name": "Python 3.9.10 64-bit",
      "language": "python",
      "name": "python3"
    },
    "language_info": {
      "codemirror_mode": {
        "name": "ipython",
        "version": 3
      },
      "file_extension": ".py",
      "mimetype": "text/x-python",
      "name": "python",
      "nbconvert_exporter": "python",
      "pygments_lexer": "ipython3",
      "version": "3.9.10"
    },
    "orig_nbformat": 4,
    "colab": {
      "provenance": []
    }
  },
  "nbformat": 4,
  "nbformat_minor": 0
}